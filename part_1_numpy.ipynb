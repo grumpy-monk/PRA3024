{
  "nbformat": 4,
  "nbformat_minor": 0,
  "metadata": {
    "kernelspec": {
      "display_name": "Python 3",
      "language": "python",
      "name": "python3"
    },
    "language_info": {
      "codemirror_mode": {
        "name": "ipython",
        "version": 3
      },
      "file_extension": ".py",
      "mimetype": "text/x-python",
      "name": "python",
      "nbconvert_exporter": "python",
      "pygments_lexer": "ipython3",
      "version": "3.7.6"
    },
    "colab": {
      "name": "part_1_numpy.ipynb",
      "provenance": [],
      "include_colab_link": true
    }
  },
  "cells": [
    {
      "cell_type": "markdown",
      "metadata": {
        "id": "view-in-github",
        "colab_type": "text"
      },
      "source": [
        "<a href=\"https://colab.research.google.com/github/grumpy-monk/PRA3024/blob/master/part_1_numpy.ipynb\" target=\"_parent\"><img src=\"https://colab.research.google.com/assets/colab-badge.svg\" alt=\"Open In Colab\"/></a>"
      ]
    },
    {
      "cell_type": "markdown",
      "metadata": {
        "id": "N15cPM670EOV",
        "colab_type": "text"
      },
      "source": [
        "# Numpy -  multidimensional data arrays"
      ]
    },
    {
      "cell_type": "markdown",
      "metadata": {
        "id": "sGu6Gcrj0EOZ",
        "colab_type": "text"
      },
      "source": [
        "This lecture is a reduced version compiled from the following materials:\n",
        "\n",
        "    J.R. Johansson (jrjohansson at gmail.com)\n",
        "    The latest version of this IPython notebook lecture is available at http://github.com/jrjohansson/scientific-python-lectures.\n",
        "    The other notebooks in this lecture series are indexed at http://jrjohansson.github.io.\n",
        "    \n",
        "    https://diveintopython3.problemsolving.io/\n",
        "    \n",
        "    https://www.dataquest.io/blog/jupyter-notebook-tutorial/"
      ]
    },
    {
      "cell_type": "code",
      "metadata": {
        "id": "BtTrnpxs0EOa",
        "colab_type": "code",
        "colab": {}
      },
      "source": [
        "# what is this line all about?!? Patience, young apprentice.\n",
        "%matplotlib inline\n",
        "import matplotlib.pyplot as plt"
      ],
      "execution_count": 0,
      "outputs": []
    },
    {
      "cell_type": "markdown",
      "metadata": {
        "id": "G88wRGiB0EOg",
        "colab_type": "text"
      },
      "source": [
        "## Introduction"
      ]
    },
    {
      "cell_type": "markdown",
      "metadata": {
        "id": "ed9B3-rV0EOh",
        "colab_type": "text"
      },
      "source": [
        "The `numpy` package (module) is used in almost all numerical computation using Python. It is a package that provide high-performance vector, matrix and higher-dimensional data structures for Python. It is implemented in C and Fortran so when calculations are vectorized (formulated with vectors and matrices), performance is very good. \n",
        "\n",
        "To use `numpy` you need to import the module, using for example:"
      ]
    },
    {
      "cell_type": "code",
      "metadata": {
        "id": "PLUyimQw0EOi",
        "colab_type": "code",
        "colab": {}
      },
      "source": [
        "from numpy import *"
      ],
      "execution_count": 0,
      "outputs": []
    },
    {
      "cell_type": "markdown",
      "metadata": {
        "id": "rcMoH34m0EOs",
        "colab_type": "text"
      },
      "source": [
        "In the `numpy` package the terminology used for vectors, matrices and higher-dimensional data sets is *array*. \n",
        "\n"
      ]
    },
    {
      "cell_type": "markdown",
      "metadata": {
        "id": "dKk7Miz60EOw",
        "colab_type": "text"
      },
      "source": [
        "## Creating `numpy` arrays"
      ]
    },
    {
      "cell_type": "markdown",
      "metadata": {
        "id": "B8rAk4c00EOz",
        "colab_type": "text"
      },
      "source": [
        "There are a number of ways to initialize new numpy arrays, for example from\n",
        "\n",
        "* a Python list or tuples\n",
        "* using functions that are dedicated to generating numpy arrays, such as `arange`, `linspace`, etc.\n",
        "* reading data from files"
      ]
    },
    {
      "cell_type": "markdown",
      "metadata": {
        "id": "XMPwlRLu0EO2",
        "colab_type": "text"
      },
      "source": [
        "### From lists"
      ]
    },
    {
      "cell_type": "markdown",
      "metadata": {
        "id": "05g08_sE0EO5",
        "colab_type": "text"
      },
      "source": [
        "For example, to create new vector and matrix arrays from Python lists we can use the `numpy.array` function."
      ]
    },
    {
      "cell_type": "code",
      "metadata": {
        "id": "5Fp70th_0EO9",
        "colab_type": "code",
        "colab": {
          "base_uri": "https://localhost:8080/",
          "height": 34
        },
        "outputId": "657de8f4-1201-4fed-d9fd-914ec8a8b3b5"
      },
      "source": [
        "# a vector: the argument to the array function is a Python list\n",
        "v = array([1,2,3,4])\n",
        "\n",
        "v"
      ],
      "execution_count": 3,
      "outputs": [
        {
          "output_type": "execute_result",
          "data": {
            "text/plain": [
              "array([1, 2, 3, 4])"
            ]
          },
          "metadata": {
            "tags": []
          },
          "execution_count": 3
        }
      ]
    },
    {
      "cell_type": "code",
      "metadata": {
        "id": "rdM_zNQu0EPI",
        "colab_type": "code",
        "colab": {
          "base_uri": "https://localhost:8080/",
          "height": 51
        },
        "outputId": "52afd827-f108-4716-c8e9-6160c3770eb5"
      },
      "source": [
        "# a matrix: the argument to the array function is a nested Python list\n",
        "M = array([[1, 2], [3, 4]])\n",
        "\n",
        "M"
      ],
      "execution_count": 4,
      "outputs": [
        {
          "output_type": "execute_result",
          "data": {
            "text/plain": [
              "array([[1, 2],\n",
              "       [3, 4]])"
            ]
          },
          "metadata": {
            "tags": []
          },
          "execution_count": 4
        }
      ]
    },
    {
      "cell_type": "markdown",
      "metadata": {
        "id": "HOpm4DEL0EPQ",
        "colab_type": "text"
      },
      "source": [
        "The `v` and `M` objects are both of the type `ndarray` that the `numpy` module provides."
      ]
    },
    {
      "cell_type": "code",
      "metadata": {
        "id": "c8p0i9Po0EPR",
        "colab_type": "code",
        "colab": {
          "base_uri": "https://localhost:8080/",
          "height": 34
        },
        "outputId": "3267111b-20d9-413b-e188-5b407422609e"
      },
      "source": [
        "type(v), type(M)"
      ],
      "execution_count": 5,
      "outputs": [
        {
          "output_type": "execute_result",
          "data": {
            "text/plain": [
              "(numpy.ndarray, numpy.ndarray)"
            ]
          },
          "metadata": {
            "tags": []
          },
          "execution_count": 5
        }
      ]
    },
    {
      "cell_type": "markdown",
      "metadata": {
        "id": "7JkGaBUf0EPY",
        "colab_type": "text"
      },
      "source": [
        "The difference between the `v` and `M` arrays is only their shapes. We can get information about the shape of an array by using the `ndarray.shape` property."
      ]
    },
    {
      "cell_type": "code",
      "metadata": {
        "id": "DGdtT5rC0EPZ",
        "colab_type": "code",
        "colab": {},
        "outputId": "bb385f04-de10-4cd3-e8fa-3bd589af4cd8"
      },
      "source": [
        "v.shape"
      ],
      "execution_count": 0,
      "outputs": [
        {
          "output_type": "execute_result",
          "data": {
            "text/plain": [
              "(4,)"
            ]
          },
          "metadata": {
            "tags": []
          },
          "execution_count": 6
        }
      ]
    },
    {
      "cell_type": "code",
      "metadata": {
        "id": "74bW9g8F0EPf",
        "colab_type": "code",
        "colab": {
          "base_uri": "https://localhost:8080/",
          "height": 34
        },
        "outputId": "4013090a-4d21-4161-b6f7-6ece869344a7"
      },
      "source": [
        "M.shape"
      ],
      "execution_count": 6,
      "outputs": [
        {
          "output_type": "execute_result",
          "data": {
            "text/plain": [
              "(2, 2)"
            ]
          },
          "metadata": {
            "tags": []
          },
          "execution_count": 6
        }
      ]
    },
    {
      "cell_type": "markdown",
      "metadata": {
        "id": "G5kYhl530EPk",
        "colab_type": "text"
      },
      "source": [
        "The number of elements in the array is available through the `ndarray.size` property:"
      ]
    },
    {
      "cell_type": "code",
      "metadata": {
        "id": "DWvBRsVN0EPl",
        "colab_type": "code",
        "colab": {
          "base_uri": "https://localhost:8080/",
          "height": 34
        },
        "outputId": "96d99e93-d690-4924-91fd-df0d3a9a3a1f"
      },
      "source": [
        "M.size"
      ],
      "execution_count": 7,
      "outputs": [
        {
          "output_type": "execute_result",
          "data": {
            "text/plain": [
              "4"
            ]
          },
          "metadata": {
            "tags": []
          },
          "execution_count": 7
        }
      ]
    },
    {
      "cell_type": "markdown",
      "metadata": {
        "id": "QNLLIN7J0EPp",
        "colab_type": "text"
      },
      "source": [
        "So far the `numpy.ndarray` looks awfully much like a Python list (or nested list). Why not simply use Python lists for computations instead of creating a new array type? \n",
        "\n",
        "There are several reasons:\n",
        "\n",
        "* Python lists are very general. They can contain any kind of object. They are dynamically typed. They do not support mathematical functions such as matrix and dot multiplications, etc. Implementing such functions for Python lists would not be very efficient because of the dynamic typing.\n",
        "* Numpy arrays are **statically typed** and **homogeneous**. The type of the elements is determined when the array is created.\n",
        "* Numpy arrays are memory efficient.\n",
        "* Because of the static typing, fast implementation of mathematical functions such as multiplication and addition of `numpy` arrays can be implemented in a compiled language (C and Fortran is used).\n",
        "\n",
        "Using the `dtype` (data type) property of an `ndarray`, we can see what type the data of an array has:"
      ]
    },
    {
      "cell_type": "code",
      "metadata": {
        "id": "rv1qp8E90EPq",
        "colab_type": "code",
        "colab": {
          "base_uri": "https://localhost:8080/",
          "height": 34
        },
        "outputId": "9f70e9f7-9297-4502-cee1-e6adbc8a6a7f"
      },
      "source": [
        "M.dtype"
      ],
      "execution_count": 8,
      "outputs": [
        {
          "output_type": "execute_result",
          "data": {
            "text/plain": [
              "dtype('int64')"
            ]
          },
          "metadata": {
            "tags": []
          },
          "execution_count": 8
        }
      ]
    },
    {
      "cell_type": "markdown",
      "metadata": {
        "id": "n5yAtBrp0EPt",
        "colab_type": "text"
      },
      "source": [
        "We get an error if we try to assign a value of the wrong type to an element in a numpy array:"
      ]
    },
    {
      "cell_type": "code",
      "metadata": {
        "id": "GkxWouHx0EPu",
        "colab_type": "code",
        "colab": {
          "base_uri": "https://localhost:8080/",
          "height": 163
        },
        "outputId": "977b88b0-859f-4198-fec2-727cdcfeb48e"
      },
      "source": [
        "M[0,0] = \"hello\""
      ],
      "execution_count": 9,
      "outputs": [
        {
          "output_type": "error",
          "ename": "ValueError",
          "evalue": "ignored",
          "traceback": [
            "\u001b[0;31m---------------------------------------------------------------------------\u001b[0m",
            "\u001b[0;31mValueError\u001b[0m                                Traceback (most recent call last)",
            "\u001b[0;32m<ipython-input-9-e1f336250f69>\u001b[0m in \u001b[0;36m<module>\u001b[0;34m()\u001b[0m\n\u001b[0;32m----> 1\u001b[0;31m \u001b[0mM\u001b[0m\u001b[0;34m[\u001b[0m\u001b[0;36m0\u001b[0m\u001b[0;34m,\u001b[0m\u001b[0;36m0\u001b[0m\u001b[0;34m]\u001b[0m \u001b[0;34m=\u001b[0m \u001b[0;34m\"hello\"\u001b[0m\u001b[0;34m\u001b[0m\u001b[0;34m\u001b[0m\u001b[0m\n\u001b[0m",
            "\u001b[0;31mValueError\u001b[0m: invalid literal for int() with base 10: 'hello'"
          ]
        }
      ]
    },
    {
      "cell_type": "markdown",
      "metadata": {
        "id": "doqN0dBN0EPx",
        "colab_type": "text"
      },
      "source": [
        "If we want, we can explicitly define the type of the array data when we create it, using the `dtype` keyword argument: "
      ]
    },
    {
      "cell_type": "code",
      "metadata": {
        "id": "uyZJQVC00EPz",
        "colab_type": "code",
        "colab": {
          "base_uri": "https://localhost:8080/",
          "height": 51
        },
        "outputId": "0157ed21-0c51-440d-d107-942ee72de522"
      },
      "source": [
        "M = array([[1, 2], [3, 4]], dtype=complex)\n",
        "\n",
        "M"
      ],
      "execution_count": 10,
      "outputs": [
        {
          "output_type": "execute_result",
          "data": {
            "text/plain": [
              "array([[1.+0.j, 2.+0.j],\n",
              "       [3.+0.j, 4.+0.j]])"
            ]
          },
          "metadata": {
            "tags": []
          },
          "execution_count": 10
        }
      ]
    },
    {
      "cell_type": "markdown",
      "metadata": {
        "id": "HfuMZqsc0EP3",
        "colab_type": "text"
      },
      "source": [
        "Common data types that can be used with `dtype` are: `int`, `float`, `complex`, `bool`, `object`, etc."
      ]
    },
    {
      "cell_type": "markdown",
      "metadata": {
        "id": "9HnyYWhA0EP4",
        "colab_type": "text"
      },
      "source": [
        "### Using array-generating functions"
      ]
    },
    {
      "cell_type": "markdown",
      "metadata": {
        "id": "nC6w2qud0EP5",
        "colab_type": "text"
      },
      "source": [
        "For larger arrays it is inpractical to initialize the data manually, using explicit python lists. Instead we can use one of the many functions in `numpy` that generate arrays of different forms. Some of the more common are:"
      ]
    },
    {
      "cell_type": "markdown",
      "metadata": {
        "id": "6P98zE5u0EP5",
        "colab_type": "text"
      },
      "source": [
        "#### arange"
      ]
    },
    {
      "cell_type": "code",
      "metadata": {
        "id": "-wyVnFcs0EP6",
        "colab_type": "code",
        "colab": {
          "base_uri": "https://localhost:8080/",
          "height": 34
        },
        "outputId": "7453595b-620c-4e73-8a57-6ce2b2faf7af"
      },
      "source": [
        "# create a range\n",
        "\n",
        "x = arange(0, 10, 1) # arguments: start, stop, step\n",
        "\n",
        "x"
      ],
      "execution_count": 11,
      "outputs": [
        {
          "output_type": "execute_result",
          "data": {
            "text/plain": [
              "array([0, 1, 2, 3, 4, 5, 6, 7, 8, 9])"
            ]
          },
          "metadata": {
            "tags": []
          },
          "execution_count": 11
        }
      ]
    },
    {
      "cell_type": "code",
      "metadata": {
        "id": "gn7YXZrJ0EP-",
        "colab_type": "code",
        "colab": {},
        "outputId": "679dc3a7-7caa-4946-9cba-f065478d3fa4"
      },
      "source": [
        "x = arange(-1, 1, 0.1)\n",
        "\n",
        "x"
      ],
      "execution_count": 0,
      "outputs": [
        {
          "output_type": "execute_result",
          "data": {
            "text/plain": [
              "array([-1.00000000e+00, -9.00000000e-01, -8.00000000e-01, -7.00000000e-01,\n",
              "       -6.00000000e-01, -5.00000000e-01, -4.00000000e-01, -3.00000000e-01,\n",
              "       -2.00000000e-01, -1.00000000e-01, -2.22044605e-16,  1.00000000e-01,\n",
              "        2.00000000e-01,  3.00000000e-01,  4.00000000e-01,  5.00000000e-01,\n",
              "        6.00000000e-01,  7.00000000e-01,  8.00000000e-01,  9.00000000e-01])"
            ]
          },
          "metadata": {
            "tags": []
          },
          "execution_count": 13
        }
      ]
    },
    {
      "cell_type": "markdown",
      "metadata": {
        "id": "qXwpunqk0EQC",
        "colab_type": "text"
      },
      "source": [
        "#### linspace and logspace"
      ]
    },
    {
      "cell_type": "code",
      "metadata": {
        "id": "iNmOdoGG0EQD",
        "colab_type": "code",
        "colab": {},
        "outputId": "918ad16a-4ee9-4926-dfe4-479350c1e5c7"
      },
      "source": [
        "# using linspace, both end points ARE included\n",
        "linspace(0, 10, 25)"
      ],
      "execution_count": 0,
      "outputs": [
        {
          "output_type": "execute_result",
          "data": {
            "text/plain": [
              "array([ 0.        ,  0.41666667,  0.83333333,  1.25      ,  1.66666667,\n",
              "        2.08333333,  2.5       ,  2.91666667,  3.33333333,  3.75      ,\n",
              "        4.16666667,  4.58333333,  5.        ,  5.41666667,  5.83333333,\n",
              "        6.25      ,  6.66666667,  7.08333333,  7.5       ,  7.91666667,\n",
              "        8.33333333,  8.75      ,  9.16666667,  9.58333333, 10.        ])"
            ]
          },
          "metadata": {
            "tags": []
          },
          "execution_count": 14
        }
      ]
    },
    {
      "cell_type": "code",
      "metadata": {
        "id": "MCVK8lr90EQG",
        "colab_type": "code",
        "colab": {},
        "outputId": "c2bfd4e5-349e-47c2-c9cc-40d65e2df67d"
      },
      "source": [
        "logspace(0, 10, 10, base=e)"
      ],
      "execution_count": 0,
      "outputs": [
        {
          "output_type": "execute_result",
          "data": {
            "text/plain": [
              "array([1.00000000e+00, 3.03773178e+00, 9.22781435e+00, 2.80316249e+01,\n",
              "       8.51525577e+01, 2.58670631e+02, 7.85771994e+02, 2.38696456e+03,\n",
              "       7.25095809e+03, 2.20264658e+04])"
            ]
          },
          "metadata": {
            "tags": []
          },
          "execution_count": 15
        }
      ]
    },
    {
      "cell_type": "markdown",
      "metadata": {
        "id": "A3v4LKxo0EQJ",
        "colab_type": "text"
      },
      "source": [
        "#### mgrid"
      ]
    },
    {
      "cell_type": "code",
      "metadata": {
        "id": "c9qA7Zco0EQK",
        "colab_type": "code",
        "colab": {}
      },
      "source": [
        "x, y = mgrid[0:5, 0:5] # similar to meshgrid in MATLAB"
      ],
      "execution_count": 0,
      "outputs": []
    },
    {
      "cell_type": "code",
      "metadata": {
        "id": "NmpwvIoR0EQM",
        "colab_type": "code",
        "colab": {
          "base_uri": "https://localhost:8080/",
          "height": 102
        },
        "outputId": "6454ac25-7ebf-4eda-f77a-e529782d14b9"
      },
      "source": [
        "x"
      ],
      "execution_count": 13,
      "outputs": [
        {
          "output_type": "execute_result",
          "data": {
            "text/plain": [
              "array([[0, 0, 0, 0, 0],\n",
              "       [1, 1, 1, 1, 1],\n",
              "       [2, 2, 2, 2, 2],\n",
              "       [3, 3, 3, 3, 3],\n",
              "       [4, 4, 4, 4, 4]])"
            ]
          },
          "metadata": {
            "tags": []
          },
          "execution_count": 13
        }
      ]
    },
    {
      "cell_type": "code",
      "metadata": {
        "id": "z0CyBRxr0EQO",
        "colab_type": "code",
        "colab": {},
        "outputId": "7c63657f-ebfb-4b15-a3e6-40478630bbdb"
      },
      "source": [
        "y"
      ],
      "execution_count": 0,
      "outputs": [
        {
          "output_type": "execute_result",
          "data": {
            "text/plain": [
              "array([[0, 1, 2, 3, 4],\n",
              "       [0, 1, 2, 3, 4],\n",
              "       [0, 1, 2, 3, 4],\n",
              "       [0, 1, 2, 3, 4],\n",
              "       [0, 1, 2, 3, 4]])"
            ]
          },
          "metadata": {
            "tags": []
          },
          "execution_count": 18
        }
      ]
    },
    {
      "cell_type": "markdown",
      "metadata": {
        "id": "TreNSPGV0EQQ",
        "colab_type": "text"
      },
      "source": [
        "#### random data"
      ]
    },
    {
      "cell_type": "code",
      "metadata": {
        "id": "l1jBGvCq0EQR",
        "colab_type": "code",
        "colab": {}
      },
      "source": [
        "from numpy import random"
      ],
      "execution_count": 0,
      "outputs": []
    },
    {
      "cell_type": "code",
      "metadata": {
        "id": "XJpMZOYS0EQS",
        "colab_type": "code",
        "colab": {
          "base_uri": "https://localhost:8080/",
          "height": 102
        },
        "outputId": "8660b751-7668-4eb8-b34d-8c59b3a2aa57"
      },
      "source": [
        "# uniform random numbers in [0,1]\n",
        "random.rand(5,5)"
      ],
      "execution_count": 15,
      "outputs": [
        {
          "output_type": "execute_result",
          "data": {
            "text/plain": [
              "array([[0.1670342 , 0.23486594, 0.6563535 , 0.89272782, 0.19085872],\n",
              "       [0.34211894, 0.46306727, 0.86411177, 0.44965197, 0.84064661],\n",
              "       [0.91549421, 0.39167707, 0.27438525, 0.75383548, 0.00111345],\n",
              "       [0.13313137, 0.64502672, 0.08803818, 0.48282539, 0.30198624],\n",
              "       [0.79477134, 0.47652222, 0.56683733, 0.34129235, 0.42151157]])"
            ]
          },
          "metadata": {
            "tags": []
          },
          "execution_count": 15
        }
      ]
    },
    {
      "cell_type": "code",
      "metadata": {
        "id": "r6Z1bIXe0EQU",
        "colab_type": "code",
        "colab": {
          "base_uri": "https://localhost:8080/",
          "height": 102
        },
        "outputId": "3d17b86d-1ec4-4144-aefa-0c6dd2068c01"
      },
      "source": [
        "# standard normal distributed random numbers\n",
        "random.randn(5,5)"
      ],
      "execution_count": 17,
      "outputs": [
        {
          "output_type": "execute_result",
          "data": {
            "text/plain": [
              "array([[-0.70213428,  0.87940696,  0.27036306,  1.89105239,  0.16134403],\n",
              "       [-0.35896401,  1.49249986,  0.83155601, -0.3723074 , -0.28777698],\n",
              "       [ 2.04700994,  0.67299507, -0.58705754, -0.24387249,  0.36618911],\n",
              "       [-1.06849701, -0.01873766,  0.30542953,  0.55253325, -0.5583701 ],\n",
              "       [-0.96714983, -0.37407352,  0.14410122, -0.39695719,  0.08946887]])"
            ]
          },
          "metadata": {
            "tags": []
          },
          "execution_count": 17
        }
      ]
    },
    {
      "cell_type": "markdown",
      "metadata": {
        "id": "t8-fCTbl0EQW",
        "colab_type": "text"
      },
      "source": [
        "#### diag"
      ]
    },
    {
      "cell_type": "code",
      "metadata": {
        "id": "8wjKcAYE0EQX",
        "colab_type": "code",
        "colab": {},
        "outputId": "9c75be42-c3b7-416f-aaf4-ef2f6ea68a35"
      },
      "source": [
        "# a diagonal matrix\n",
        "diag([1,2,3])"
      ],
      "execution_count": 0,
      "outputs": [
        {
          "output_type": "execute_result",
          "data": {
            "text/plain": [
              "array([[1, 0, 0],\n",
              "       [0, 2, 0],\n",
              "       [0, 0, 3]])"
            ]
          },
          "metadata": {
            "tags": []
          },
          "execution_count": 22
        }
      ]
    },
    {
      "cell_type": "code",
      "metadata": {
        "id": "rr0Dq1Za0EQZ",
        "colab_type": "code",
        "colab": {},
        "outputId": "1ac526a9-9ece-4d61-f456-2088d23e76b5"
      },
      "source": [
        "# diagonal with offset from the main diagonal\n",
        "diag([1,2,3], k=1) "
      ],
      "execution_count": 0,
      "outputs": [
        {
          "output_type": "execute_result",
          "data": {
            "text/plain": [
              "array([[0, 1, 0, 0],\n",
              "       [0, 0, 2, 0],\n",
              "       [0, 0, 0, 3],\n",
              "       [0, 0, 0, 0]])"
            ]
          },
          "metadata": {
            "tags": []
          },
          "execution_count": 23
        }
      ]
    },
    {
      "cell_type": "markdown",
      "metadata": {
        "id": "Vm2K-Txj0EQb",
        "colab_type": "text"
      },
      "source": [
        "#### zeros and ones"
      ]
    },
    {
      "cell_type": "code",
      "metadata": {
        "id": "AHEeHvwB0EQb",
        "colab_type": "code",
        "colab": {},
        "outputId": "a4b1a2e2-8bc4-45da-89ca-db31635b6e6f"
      },
      "source": [
        "zeros((3,3))"
      ],
      "execution_count": 0,
      "outputs": [
        {
          "output_type": "execute_result",
          "data": {
            "text/plain": [
              "array([[0., 0., 0.],\n",
              "       [0., 0., 0.],\n",
              "       [0., 0., 0.]])"
            ]
          },
          "metadata": {
            "tags": []
          },
          "execution_count": 24
        }
      ]
    },
    {
      "cell_type": "code",
      "metadata": {
        "id": "HTrslPrt0EQe",
        "colab_type": "code",
        "colab": {},
        "outputId": "1bb29048-7037-4a92-9bcf-a29ad404ff5d"
      },
      "source": [
        "ones((3,3))"
      ],
      "execution_count": 0,
      "outputs": [
        {
          "output_type": "execute_result",
          "data": {
            "text/plain": [
              "array([[1., 1., 1.],\n",
              "       [1., 1., 1.],\n",
              "       [1., 1., 1.]])"
            ]
          },
          "metadata": {
            "tags": []
          },
          "execution_count": 25
        }
      ]
    },
    {
      "cell_type": "markdown",
      "metadata": {
        "id": "PKXt79yN0EQg",
        "colab_type": "text"
      },
      "source": [
        "## Manipulating arrays"
      ]
    },
    {
      "cell_type": "markdown",
      "metadata": {
        "id": "rLODF6CD0EQg",
        "colab_type": "text"
      },
      "source": [
        "### Indexing"
      ]
    },
    {
      "cell_type": "markdown",
      "metadata": {
        "id": "N76dGErS0EQh",
        "colab_type": "text"
      },
      "source": [
        "We can index elements in an array using square brackets and indices:"
      ]
    },
    {
      "cell_type": "code",
      "metadata": {
        "id": "xt1R_x_K0EQh",
        "colab_type": "code",
        "colab": {
          "base_uri": "https://localhost:8080/",
          "height": 34
        },
        "outputId": "cfcddd2f-dc10-4c01-a478-900351fdd0f5"
      },
      "source": [
        "# v is a vector, and has only one dimension, taking one index\n",
        "v[0]"
      ],
      "execution_count": 18,
      "outputs": [
        {
          "output_type": "execute_result",
          "data": {
            "text/plain": [
              "1"
            ]
          },
          "metadata": {
            "tags": []
          },
          "execution_count": 18
        }
      ]
    },
    {
      "cell_type": "code",
      "metadata": {
        "id": "1NsRby1J0EQm",
        "colab_type": "code",
        "colab": {},
        "outputId": "99356500-ae3b-49e1-d12f-7d154a3ec92e"
      },
      "source": [
        "# M is a matrix, or a 2 dimensional array, taking two indices \n",
        "M[1,1]"
      ],
      "execution_count": 0,
      "outputs": [
        {
          "output_type": "execute_result",
          "data": {
            "text/plain": [
              "(4+0j)"
            ]
          },
          "metadata": {
            "tags": []
          },
          "execution_count": 27
        }
      ]
    },
    {
      "cell_type": "markdown",
      "metadata": {
        "id": "hHpksiNC0EQo",
        "colab_type": "text"
      },
      "source": [
        "If we omit an index of a multidimensional array it returns the whole row (or, in general, a N-1 dimensional array) "
      ]
    },
    {
      "cell_type": "code",
      "metadata": {
        "id": "ScR_E3BW0EQp",
        "colab_type": "code",
        "colab": {},
        "outputId": "0b3ca133-c931-4382-d733-21465a7f8a4b"
      },
      "source": [
        "M"
      ],
      "execution_count": 0,
      "outputs": [
        {
          "output_type": "execute_result",
          "data": {
            "text/plain": [
              "array([[1.+0.j, 2.+0.j],\n",
              "       [3.+0.j, 4.+0.j]])"
            ]
          },
          "metadata": {
            "tags": []
          },
          "execution_count": 28
        }
      ]
    },
    {
      "cell_type": "code",
      "metadata": {
        "id": "-91HMKC70EQr",
        "colab_type": "code",
        "colab": {},
        "outputId": "76925ce7-d804-465d-c1aa-f9e54fddb226"
      },
      "source": [
        "M[1]"
      ],
      "execution_count": 0,
      "outputs": [
        {
          "output_type": "execute_result",
          "data": {
            "text/plain": [
              "array([3.+0.j, 4.+0.j])"
            ]
          },
          "metadata": {
            "tags": []
          },
          "execution_count": 29
        }
      ]
    },
    {
      "cell_type": "markdown",
      "metadata": {
        "id": "hww08ZRg0EQt",
        "colab_type": "text"
      },
      "source": [
        "The same thing can be achieved with using `:` instead of an index: "
      ]
    },
    {
      "cell_type": "code",
      "metadata": {
        "id": "szqAIRcE0EQu",
        "colab_type": "code",
        "colab": {},
        "outputId": "236408c9-87ee-43f8-8138-50cc33c833ac"
      },
      "source": [
        "M[1,:] # row 1"
      ],
      "execution_count": 0,
      "outputs": [
        {
          "output_type": "execute_result",
          "data": {
            "text/plain": [
              "array([3.+0.j, 4.+0.j])"
            ]
          },
          "metadata": {
            "tags": []
          },
          "execution_count": 30
        }
      ]
    },
    {
      "cell_type": "code",
      "metadata": {
        "id": "WbB1-Lr60EQw",
        "colab_type": "code",
        "colab": {},
        "outputId": "c0751a21-1f01-4af2-916b-62061995e341"
      },
      "source": [
        "M[:,1] # column 1"
      ],
      "execution_count": 0,
      "outputs": [
        {
          "output_type": "execute_result",
          "data": {
            "text/plain": [
              "array([2.+0.j, 4.+0.j])"
            ]
          },
          "metadata": {
            "tags": []
          },
          "execution_count": 31
        }
      ]
    },
    {
      "cell_type": "markdown",
      "metadata": {
        "id": "BlP3o02b0EQy",
        "colab_type": "text"
      },
      "source": [
        "We can assign new values to elements in an array using indexing:"
      ]
    },
    {
      "cell_type": "code",
      "metadata": {
        "id": "v4K33Wfe0EQz",
        "colab_type": "code",
        "colab": {}
      },
      "source": [
        "M[0,0] = 1"
      ],
      "execution_count": 0,
      "outputs": []
    },
    {
      "cell_type": "code",
      "metadata": {
        "id": "J_sCu5R70EQ3",
        "colab_type": "code",
        "colab": {},
        "outputId": "51afb9be-0cec-49d2-9bbe-9580955b1f5a"
      },
      "source": [
        "M"
      ],
      "execution_count": 0,
      "outputs": [
        {
          "output_type": "execute_result",
          "data": {
            "text/plain": [
              "array([[1.+0.j, 2.+0.j],\n",
              "       [3.+0.j, 4.+0.j]])"
            ]
          },
          "metadata": {
            "tags": []
          },
          "execution_count": 33
        }
      ]
    },
    {
      "cell_type": "code",
      "metadata": {
        "id": "6eLA7EQE0EQ7",
        "colab_type": "code",
        "colab": {}
      },
      "source": [
        "# also works for rows and columns\n",
        "M[1,:] = 0\n",
        "M[:,1] = -1"
      ],
      "execution_count": 0,
      "outputs": []
    },
    {
      "cell_type": "code",
      "metadata": {
        "id": "QKbmbdEL0ERA",
        "colab_type": "code",
        "colab": {
          "base_uri": "https://localhost:8080/",
          "height": 51
        },
        "outputId": "9958a47c-8ae2-432b-9a8a-22354cd1c707"
      },
      "source": [
        "M"
      ],
      "execution_count": 22,
      "outputs": [
        {
          "output_type": "execute_result",
          "data": {
            "text/plain": [
              "array([[ 1.+0.j, -1.+0.j],\n",
              "       [ 0.+0.j, -1.+0.j]])"
            ]
          },
          "metadata": {
            "tags": []
          },
          "execution_count": 22
        }
      ]
    },
    {
      "cell_type": "markdown",
      "metadata": {
        "id": "n9OBxM9X0ERI",
        "colab_type": "text"
      },
      "source": [
        "### Index slicing"
      ]
    },
    {
      "cell_type": "markdown",
      "metadata": {
        "id": "z_oZI7rI0ERL",
        "colab_type": "text"
      },
      "source": [
        "Index slicing is the technical name for the syntax `M[lower:upper:step]` to extract part of an array:"
      ]
    },
    {
      "cell_type": "code",
      "metadata": {
        "id": "_wjNKgFQ0ERM",
        "colab_type": "code",
        "colab": {
          "base_uri": "https://localhost:8080/",
          "height": 34
        },
        "outputId": "7214c3d2-251d-4b21-8b3b-e32db73f7424"
      },
      "source": [
        "A = array([1,2,3,4,5])\n",
        "A"
      ],
      "execution_count": 26,
      "outputs": [
        {
          "output_type": "execute_result",
          "data": {
            "text/plain": [
              "array([1, 2, 3, 4, 5])"
            ]
          },
          "metadata": {
            "tags": []
          },
          "execution_count": 26
        }
      ]
    },
    {
      "cell_type": "code",
      "metadata": {
        "id": "zwHaF4eW0ERQ",
        "colab_type": "code",
        "colab": {
          "base_uri": "https://localhost:8080/",
          "height": 34
        },
        "outputId": "ea66368c-6d2c-481b-b408-2bb3e4d57e73"
      },
      "source": [
        "A[1:3]"
      ],
      "execution_count": 27,
      "outputs": [
        {
          "output_type": "execute_result",
          "data": {
            "text/plain": [
              "array([2, 3])"
            ]
          },
          "metadata": {
            "tags": []
          },
          "execution_count": 27
        }
      ]
    },
    {
      "cell_type": "markdown",
      "metadata": {
        "id": "CsytY4wG0ERV",
        "colab_type": "text"
      },
      "source": [
        "Array slices are *mutable*: if they are assigned a new value the original array from which the slice was extracted is modified:"
      ]
    },
    {
      "cell_type": "code",
      "metadata": {
        "id": "ZiYXL28a0ERW",
        "colab_type": "code",
        "colab": {
          "base_uri": "https://localhost:8080/",
          "height": 34
        },
        "outputId": "4993bd22-a007-43cd-9b29-f1e4be17ca59"
      },
      "source": [
        "A[1:3] = [-2,-3]\n",
        "\n",
        "A"
      ],
      "execution_count": 28,
      "outputs": [
        {
          "output_type": "execute_result",
          "data": {
            "text/plain": [
              "array([ 1, -2, -3,  4,  5])"
            ]
          },
          "metadata": {
            "tags": []
          },
          "execution_count": 28
        }
      ]
    },
    {
      "cell_type": "markdown",
      "metadata": {
        "id": "_qc8g3cP0ERc",
        "colab_type": "text"
      },
      "source": [
        "We can omit any of the three parameters in `M[lower:upper:step]`:"
      ]
    },
    {
      "cell_type": "code",
      "metadata": {
        "id": "0TchUEBm0ERd",
        "colab_type": "code",
        "colab": {
          "base_uri": "https://localhost:8080/",
          "height": 34
        },
        "outputId": "6a642fb9-d52d-4ad6-f9ea-1882fa362c05"
      },
      "source": [
        "A[::] # lower, upper, step all take the default values"
      ],
      "execution_count": 29,
      "outputs": [
        {
          "output_type": "execute_result",
          "data": {
            "text/plain": [
              "array([ 1, -2, -3,  4,  5])"
            ]
          },
          "metadata": {
            "tags": []
          },
          "execution_count": 29
        }
      ]
    },
    {
      "cell_type": "code",
      "metadata": {
        "id": "IczA9YRC0ERf",
        "colab_type": "code",
        "colab": {
          "base_uri": "https://localhost:8080/",
          "height": 34
        },
        "outputId": "ac3dc09a-cbe5-450b-aa81-b0a9240e45b2"
      },
      "source": [
        "A[::2] # step is 2, lower and upper defaults to the beginning and end of the array"
      ],
      "execution_count": 30,
      "outputs": [
        {
          "output_type": "execute_result",
          "data": {
            "text/plain": [
              "array([ 1, -3,  5])"
            ]
          },
          "metadata": {
            "tags": []
          },
          "execution_count": 30
        }
      ]
    },
    {
      "cell_type": "code",
      "metadata": {
        "id": "XjnCUOPU0ERi",
        "colab_type": "code",
        "colab": {
          "base_uri": "https://localhost:8080/",
          "height": 34
        },
        "outputId": "7ebd6761-2d9c-4029-c8c7-b91f9c39ce39"
      },
      "source": [
        "A[:3] # first three elements"
      ],
      "execution_count": 31,
      "outputs": [
        {
          "output_type": "execute_result",
          "data": {
            "text/plain": [
              "array([ 1, -2, -3])"
            ]
          },
          "metadata": {
            "tags": []
          },
          "execution_count": 31
        }
      ]
    },
    {
      "cell_type": "code",
      "metadata": {
        "id": "PuzdLnFa0ERk",
        "colab_type": "code",
        "colab": {
          "base_uri": "https://localhost:8080/",
          "height": 34
        },
        "outputId": "bc65bbe8-d7ed-4480-de09-55aa2f2705dc"
      },
      "source": [
        "A[3:] # elements from index 3"
      ],
      "execution_count": 32,
      "outputs": [
        {
          "output_type": "execute_result",
          "data": {
            "text/plain": [
              "array([4, 5])"
            ]
          },
          "metadata": {
            "tags": []
          },
          "execution_count": 32
        }
      ]
    },
    {
      "cell_type": "markdown",
      "metadata": {
        "id": "sZI9-3nz0ERo",
        "colab_type": "text"
      },
      "source": [
        "Negative indices counts from the end of the array (positive index from the begining):"
      ]
    },
    {
      "cell_type": "code",
      "metadata": {
        "id": "6ltsyGVN0ERp",
        "colab_type": "code",
        "colab": {}
      },
      "source": [
        "A = array([1,2,3,4,5])"
      ],
      "execution_count": 0,
      "outputs": []
    },
    {
      "cell_type": "code",
      "metadata": {
        "id": "7xCKitep0ERr",
        "colab_type": "code",
        "colab": {
          "base_uri": "https://localhost:8080/",
          "height": 34
        },
        "outputId": "7f616e92-939d-4713-b733-c9fb38ce4f80"
      },
      "source": [
        "A[-1] # the last element in the array"
      ],
      "execution_count": 34,
      "outputs": [
        {
          "output_type": "execute_result",
          "data": {
            "text/plain": [
              "5"
            ]
          },
          "metadata": {
            "tags": []
          },
          "execution_count": 34
        }
      ]
    },
    {
      "cell_type": "code",
      "metadata": {
        "id": "Iie86DGT0ERu",
        "colab_type": "code",
        "colab": {
          "base_uri": "https://localhost:8080/",
          "height": 34
        },
        "outputId": "8b9bfaf0-f7e9-46c6-961a-2ef407b4a45e"
      },
      "source": [
        "A[-3:] # the last three elements"
      ],
      "execution_count": 35,
      "outputs": [
        {
          "output_type": "execute_result",
          "data": {
            "text/plain": [
              "array([3, 4, 5])"
            ]
          },
          "metadata": {
            "tags": []
          },
          "execution_count": 35
        }
      ]
    },
    {
      "cell_type": "markdown",
      "metadata": {
        "id": "UiIWhfA-0ERw",
        "colab_type": "text"
      },
      "source": [
        "Index slicing works exactly the same way for multidimensional arrays:"
      ]
    },
    {
      "cell_type": "code",
      "metadata": {
        "id": "ZAKBrKy60ERx",
        "colab_type": "code",
        "colab": {
          "base_uri": "https://localhost:8080/",
          "height": 102
        },
        "outputId": "1147f357-77f6-4f86-e77a-4849eb0db452"
      },
      "source": [
        "A = array([[n+m*10 for n in range(5)] for m in range(5)])\n",
        "\n",
        "A"
      ],
      "execution_count": 36,
      "outputs": [
        {
          "output_type": "execute_result",
          "data": {
            "text/plain": [
              "array([[ 0,  1,  2,  3,  4],\n",
              "       [10, 11, 12, 13, 14],\n",
              "       [20, 21, 22, 23, 24],\n",
              "       [30, 31, 32, 33, 34],\n",
              "       [40, 41, 42, 43, 44]])"
            ]
          },
          "metadata": {
            "tags": []
          },
          "execution_count": 36
        }
      ]
    },
    {
      "cell_type": "code",
      "metadata": {
        "id": "VPLuUl_d0ER0",
        "colab_type": "code",
        "colab": {
          "base_uri": "https://localhost:8080/",
          "height": 68
        },
        "outputId": "2c1e2986-627b-4da2-d373-b7c8236fcb28"
      },
      "source": [
        "# a block from the original array\n",
        "A[1:4, 1:4]"
      ],
      "execution_count": 37,
      "outputs": [
        {
          "output_type": "execute_result",
          "data": {
            "text/plain": [
              "array([[11, 12, 13],\n",
              "       [21, 22, 23],\n",
              "       [31, 32, 33]])"
            ]
          },
          "metadata": {
            "tags": []
          },
          "execution_count": 37
        }
      ]
    },
    {
      "cell_type": "code",
      "metadata": {
        "id": "PfpbGm7g0ER2",
        "colab_type": "code",
        "colab": {
          "base_uri": "https://localhost:8080/",
          "height": 68
        },
        "outputId": "80d812f2-2d82-493c-fc7d-5fc9bd27b997"
      },
      "source": [
        "# strides\n",
        "A[::2, ::2]"
      ],
      "execution_count": 38,
      "outputs": [
        {
          "output_type": "execute_result",
          "data": {
            "text/plain": [
              "array([[ 0,  2,  4],\n",
              "       [20, 22, 24],\n",
              "       [40, 42, 44]])"
            ]
          },
          "metadata": {
            "tags": []
          },
          "execution_count": 38
        }
      ]
    },
    {
      "cell_type": "markdown",
      "metadata": {
        "id": "KfUmvltP0ER4",
        "colab_type": "text"
      },
      "source": [
        "### Fancy indexing"
      ]
    },
    {
      "cell_type": "markdown",
      "metadata": {
        "id": "VZB-DIBo0ER5",
        "colab_type": "text"
      },
      "source": [
        "Fancy indexing is the name for when an array or list is used in-place of an index: "
      ]
    },
    {
      "cell_type": "code",
      "metadata": {
        "id": "F0t-aYYL0ER5",
        "colab_type": "code",
        "colab": {
          "base_uri": "https://localhost:8080/",
          "height": 68
        },
        "outputId": "20804a68-83c6-4e0e-f731-0e9ed15e7e00"
      },
      "source": [
        "row_indices = [1, 2, 3]\n",
        "A[row_indices]"
      ],
      "execution_count": 39,
      "outputs": [
        {
          "output_type": "execute_result",
          "data": {
            "text/plain": [
              "array([[10, 11, 12, 13, 14],\n",
              "       [20, 21, 22, 23, 24],\n",
              "       [30, 31, 32, 33, 34]])"
            ]
          },
          "metadata": {
            "tags": []
          },
          "execution_count": 39
        }
      ]
    },
    {
      "cell_type": "code",
      "metadata": {
        "id": "6ysReLl80ER9",
        "colab_type": "code",
        "colab": {
          "base_uri": "https://localhost:8080/",
          "height": 34
        },
        "outputId": "a8f19f71-f5c5-45a7-f57e-b6b11c0e8f4d"
      },
      "source": [
        "col_indices = [1, 2, -1] # remember, index -1 means the last element\n",
        "A[row_indices, col_indices]"
      ],
      "execution_count": 40,
      "outputs": [
        {
          "output_type": "execute_result",
          "data": {
            "text/plain": [
              "array([11, 22, 34])"
            ]
          },
          "metadata": {
            "tags": []
          },
          "execution_count": 40
        }
      ]
    },
    {
      "cell_type": "markdown",
      "metadata": {
        "id": "4J16BHx_0ER_",
        "colab_type": "text"
      },
      "source": [
        "We can also use index masks: If the index mask is an Numpy array of data type `bool`, then an element is selected (True) or not (False) depending on the value of the index mask at the position of each element: "
      ]
    },
    {
      "cell_type": "code",
      "metadata": {
        "id": "H7ME6l0k0ER_",
        "colab_type": "code",
        "colab": {
          "base_uri": "https://localhost:8080/",
          "height": 34
        },
        "outputId": "2ef567a0-b1d5-4a82-c94f-0405e9ab120e"
      },
      "source": [
        "B = array([n for n in range(5)])\n",
        "B"
      ],
      "execution_count": 41,
      "outputs": [
        {
          "output_type": "execute_result",
          "data": {
            "text/plain": [
              "array([0, 1, 2, 3, 4])"
            ]
          },
          "metadata": {
            "tags": []
          },
          "execution_count": 41
        }
      ]
    },
    {
      "cell_type": "code",
      "metadata": {
        "id": "r9YhjEEa0ESB",
        "colab_type": "code",
        "colab": {
          "base_uri": "https://localhost:8080/",
          "height": 34
        },
        "outputId": "940da610-09d8-44b1-f07b-d52a34d9cadf"
      },
      "source": [
        "row_mask = array([True, False, True, False, False])\n",
        "B[row_mask]"
      ],
      "execution_count": 42,
      "outputs": [
        {
          "output_type": "execute_result",
          "data": {
            "text/plain": [
              "array([0, 2])"
            ]
          },
          "metadata": {
            "tags": []
          },
          "execution_count": 42
        }
      ]
    },
    {
      "cell_type": "code",
      "metadata": {
        "id": "TOWEJuIw0ESC",
        "colab_type": "code",
        "colab": {
          "base_uri": "https://localhost:8080/",
          "height": 34
        },
        "outputId": "b3aec756-d17d-423f-fd40-d8a6ee4bd928"
      },
      "source": [
        "# same thing\n",
        "row_mask = array([1,0,1,0,0], dtype=bool)\n",
        "B[row_mask]"
      ],
      "execution_count": 43,
      "outputs": [
        {
          "output_type": "execute_result",
          "data": {
            "text/plain": [
              "array([0, 2])"
            ]
          },
          "metadata": {
            "tags": []
          },
          "execution_count": 43
        }
      ]
    },
    {
      "cell_type": "markdown",
      "metadata": {
        "id": "GQ290dAH0ESE",
        "colab_type": "text"
      },
      "source": [
        "This feature is very useful to conditionally select elements from an array, using for example comparison operators:"
      ]
    },
    {
      "cell_type": "code",
      "metadata": {
        "id": "6itf75F70ESE",
        "colab_type": "code",
        "colab": {
          "base_uri": "https://localhost:8080/",
          "height": 51
        },
        "outputId": "e7934de8-f4e0-4cd9-e77f-b7ba70674c67"
      },
      "source": [
        "x = arange(0, 10, 0.5)\n",
        "x"
      ],
      "execution_count": 46,
      "outputs": [
        {
          "output_type": "execute_result",
          "data": {
            "text/plain": [
              "array([0. , 0.5, 1. , 1.5, 2. , 2.5, 3. , 3.5, 4. , 4.5, 5. , 5.5, 6. ,\n",
              "       6.5, 7. , 7.5, 8. , 8.5, 9. , 9.5])"
            ]
          },
          "metadata": {
            "tags": []
          },
          "execution_count": 46
        }
      ]
    },
    {
      "cell_type": "code",
      "metadata": {
        "id": "1BhkqC200ESH",
        "colab_type": "code",
        "colab": {
          "base_uri": "https://localhost:8080/",
          "height": 68
        },
        "outputId": "4950ee81-b121-42ec-b451-9f3c80a4bbd0"
      },
      "source": [
        "mask = (5 < x) * (x < 7.5)\n",
        "\n",
        "mask"
      ],
      "execution_count": 47,
      "outputs": [
        {
          "output_type": "execute_result",
          "data": {
            "text/plain": [
              "array([False, False, False, False, False, False, False, False, False,\n",
              "       False, False,  True,  True,  True,  True, False, False, False,\n",
              "       False, False])"
            ]
          },
          "metadata": {
            "tags": []
          },
          "execution_count": 47
        }
      ]
    },
    {
      "cell_type": "code",
      "metadata": {
        "id": "EG3VSbP80ESJ",
        "colab_type": "code",
        "colab": {
          "base_uri": "https://localhost:8080/",
          "height": 34
        },
        "outputId": "f85ce5ec-6894-48d4-ee68-941959627bbd"
      },
      "source": [
        "x[mask]"
      ],
      "execution_count": 48,
      "outputs": [
        {
          "output_type": "execute_result",
          "data": {
            "text/plain": [
              "array([5.5, 6. , 6.5, 7. ])"
            ]
          },
          "metadata": {
            "tags": []
          },
          "execution_count": 48
        }
      ]
    },
    {
      "cell_type": "markdown",
      "metadata": {
        "id": "Twd70j7f0ESL",
        "colab_type": "text"
      },
      "source": [
        "## Linear algebra"
      ]
    },
    {
      "cell_type": "markdown",
      "metadata": {
        "id": "LDlXsfE40ESL",
        "colab_type": "text"
      },
      "source": [
        "Vectorizing code is the key to writing efficient numerical calculation with Python/Numpy. That means that as much as possible of a program should be formulated in terms of matrix and vector operations, like matrix-matrix multiplication."
      ]
    },
    {
      "cell_type": "markdown",
      "metadata": {
        "id": "h2Vh4BS50ESL",
        "colab_type": "text"
      },
      "source": [
        "### Scalar-array operations"
      ]
    },
    {
      "cell_type": "markdown",
      "metadata": {
        "id": "Edc3oLb00ESM",
        "colab_type": "text"
      },
      "source": [
        "We can use the usual arithmetic operators to multiply, add, subtract, and divide arrays with scalar numbers."
      ]
    },
    {
      "cell_type": "code",
      "metadata": {
        "id": "ba07Jt-F0ESM",
        "colab_type": "code",
        "colab": {}
      },
      "source": [
        "v1 = arange(0, 5)"
      ],
      "execution_count": 0,
      "outputs": []
    },
    {
      "cell_type": "code",
      "metadata": {
        "id": "LFEIAnlI0ESO",
        "colab_type": "code",
        "colab": {
          "base_uri": "https://localhost:8080/",
          "height": 34
        },
        "outputId": "ea6e85f1-3898-4b94-ac41-adec0c362452"
      },
      "source": [
        "v1 * 2"
      ],
      "execution_count": 50,
      "outputs": [
        {
          "output_type": "execute_result",
          "data": {
            "text/plain": [
              "array([0, 2, 4, 6, 8])"
            ]
          },
          "metadata": {
            "tags": []
          },
          "execution_count": 50
        }
      ]
    },
    {
      "cell_type": "code",
      "metadata": {
        "id": "YxyjFVBG0ESP",
        "colab_type": "code",
        "colab": {
          "base_uri": "https://localhost:8080/",
          "height": 34
        },
        "outputId": "01bd95a2-991d-404e-ff98-c7eac2577608"
      },
      "source": [
        "v1 + 2"
      ],
      "execution_count": 51,
      "outputs": [
        {
          "output_type": "execute_result",
          "data": {
            "text/plain": [
              "array([2, 3, 4, 5, 6])"
            ]
          },
          "metadata": {
            "tags": []
          },
          "execution_count": 51
        }
      ]
    },
    {
      "cell_type": "code",
      "metadata": {
        "id": "NcaeEf4Y0ESR",
        "colab_type": "code",
        "colab": {
          "base_uri": "https://localhost:8080/",
          "height": 170
        },
        "outputId": "8a4be731-5a82-4e26-a979-264059557ff7"
      },
      "source": [
        "A * 2, A + 2"
      ],
      "execution_count": 52,
      "outputs": [
        {
          "output_type": "execute_result",
          "data": {
            "text/plain": [
              "(array([[ 0,  2,  4,  6,  8],\n",
              "        [20, 22, 24, 26, 28],\n",
              "        [40, 42, 44, 46, 48],\n",
              "        [60, 62, 64, 66, 68],\n",
              "        [80, 82, 84, 86, 88]]), array([[ 2,  3,  4,  5,  6],\n",
              "        [12, 13, 14, 15, 16],\n",
              "        [22, 23, 24, 25, 26],\n",
              "        [32, 33, 34, 35, 36],\n",
              "        [42, 43, 44, 45, 46]]))"
            ]
          },
          "metadata": {
            "tags": []
          },
          "execution_count": 52
        }
      ]
    },
    {
      "cell_type": "markdown",
      "metadata": {
        "id": "NAR0ECtC0EST",
        "colab_type": "text"
      },
      "source": [
        "### Element-wise array-array operations"
      ]
    },
    {
      "cell_type": "markdown",
      "metadata": {
        "id": "ItnOdgdr0EST",
        "colab_type": "text"
      },
      "source": [
        "When we add, subtract, multiply and divide arrays with each other, the default behaviour is **element-wise** operations:"
      ]
    },
    {
      "cell_type": "code",
      "metadata": {
        "id": "qim4bais0ESU",
        "colab_type": "code",
        "colab": {
          "base_uri": "https://localhost:8080/",
          "height": 102
        },
        "outputId": "066f00d4-697c-4ae9-c54e-972f54ea2d96"
      },
      "source": [
        "A * A # element-wise multiplication"
      ],
      "execution_count": 53,
      "outputs": [
        {
          "output_type": "execute_result",
          "data": {
            "text/plain": [
              "array([[   0,    1,    4,    9,   16],\n",
              "       [ 100,  121,  144,  169,  196],\n",
              "       [ 400,  441,  484,  529,  576],\n",
              "       [ 900,  961, 1024, 1089, 1156],\n",
              "       [1600, 1681, 1764, 1849, 1936]])"
            ]
          },
          "metadata": {
            "tags": []
          },
          "execution_count": 53
        }
      ]
    },
    {
      "cell_type": "code",
      "metadata": {
        "id": "dhf3qcNh0ESV",
        "colab_type": "code",
        "colab": {
          "base_uri": "https://localhost:8080/",
          "height": 34
        },
        "outputId": "2c312de3-4cd2-4877-ddf7-f5800c992f04"
      },
      "source": [
        "v1 * v1"
      ],
      "execution_count": 54,
      "outputs": [
        {
          "output_type": "execute_result",
          "data": {
            "text/plain": [
              "array([ 0,  1,  4,  9, 16])"
            ]
          },
          "metadata": {
            "tags": []
          },
          "execution_count": 54
        }
      ]
    },
    {
      "cell_type": "markdown",
      "metadata": {
        "id": "_90iVIkL0ESX",
        "colab_type": "text"
      },
      "source": [
        "If we multiply arrays with compatible shapes, we get an element-wise multiplication of each row:"
      ]
    },
    {
      "cell_type": "code",
      "metadata": {
        "id": "3yoPcEka0ESX",
        "colab_type": "code",
        "colab": {
          "base_uri": "https://localhost:8080/",
          "height": 34
        },
        "outputId": "a6f7103c-8bf6-4e18-df4d-f77f1824c598"
      },
      "source": [
        "A.shape, v1.shape"
      ],
      "execution_count": 55,
      "outputs": [
        {
          "output_type": "execute_result",
          "data": {
            "text/plain": [
              "((5, 5), (5,))"
            ]
          },
          "metadata": {
            "tags": []
          },
          "execution_count": 55
        }
      ]
    },
    {
      "cell_type": "code",
      "metadata": {
        "id": "4BantJ414TfR",
        "colab_type": "code",
        "colab": {
          "base_uri": "https://localhost:8080/",
          "height": 102
        },
        "outputId": "0dfa4f19-4378-467e-d8d5-916c5644cba5"
      },
      "source": [
        "A"
      ],
      "execution_count": 57,
      "outputs": [
        {
          "output_type": "execute_result",
          "data": {
            "text/plain": [
              "array([[ 0,  1,  2,  3,  4],\n",
              "       [10, 11, 12, 13, 14],\n",
              "       [20, 21, 22, 23, 24],\n",
              "       [30, 31, 32, 33, 34],\n",
              "       [40, 41, 42, 43, 44]])"
            ]
          },
          "metadata": {
            "tags": []
          },
          "execution_count": 57
        }
      ]
    },
    {
      "cell_type": "code",
      "metadata": {
        "id": "sXqyx9rc4V3E",
        "colab_type": "code",
        "colab": {
          "base_uri": "https://localhost:8080/",
          "height": 34
        },
        "outputId": "b348463a-a8b3-4a92-87fc-0049677710f4"
      },
      "source": [
        "v1"
      ],
      "execution_count": 58,
      "outputs": [
        {
          "output_type": "execute_result",
          "data": {
            "text/plain": [
              "array([0, 1, 2, 3, 4])"
            ]
          },
          "metadata": {
            "tags": []
          },
          "execution_count": 58
        }
      ]
    },
    {
      "cell_type": "code",
      "metadata": {
        "id": "jyowUs3j0ESZ",
        "colab_type": "code",
        "colab": {
          "base_uri": "https://localhost:8080/",
          "height": 102
        },
        "outputId": "ac3fef27-c73d-48e5-a834-6809444007ee"
      },
      "source": [
        "A * v1"
      ],
      "execution_count": 56,
      "outputs": [
        {
          "output_type": "execute_result",
          "data": {
            "text/plain": [
              "array([[  0,   1,   4,   9,  16],\n",
              "       [  0,  11,  24,  39,  56],\n",
              "       [  0,  21,  44,  69,  96],\n",
              "       [  0,  31,  64,  99, 136],\n",
              "       [  0,  41,  84, 129, 176]])"
            ]
          },
          "metadata": {
            "tags": []
          },
          "execution_count": 56
        }
      ]
    },
    {
      "cell_type": "markdown",
      "metadata": {
        "id": "XzBbD_cw0ESc",
        "colab_type": "text"
      },
      "source": [
        "### Matrix algebra"
      ]
    },
    {
      "cell_type": "markdown",
      "metadata": {
        "id": "FfRzUo0y0ESd",
        "colab_type": "text"
      },
      "source": [
        "What about matrix mutiplication? There are two ways. We can either use the `dot` function, which applies a matrix-matrix, matrix-vector, or inner vector multiplication to its two arguments: "
      ]
    },
    {
      "cell_type": "code",
      "metadata": {
        "id": "B-90u9rN0ESg",
        "colab_type": "code",
        "colab": {
          "base_uri": "https://localhost:8080/",
          "height": 102
        },
        "outputId": "e56b3b9c-cad7-4398-f88f-e677c29c1965"
      },
      "source": [
        "dot(A, A)"
      ],
      "execution_count": 59,
      "outputs": [
        {
          "output_type": "execute_result",
          "data": {
            "text/plain": [
              "array([[ 300,  310,  320,  330,  340],\n",
              "       [1300, 1360, 1420, 1480, 1540],\n",
              "       [2300, 2410, 2520, 2630, 2740],\n",
              "       [3300, 3460, 3620, 3780, 3940],\n",
              "       [4300, 4510, 4720, 4930, 5140]])"
            ]
          },
          "metadata": {
            "tags": []
          },
          "execution_count": 59
        }
      ]
    },
    {
      "cell_type": "code",
      "metadata": {
        "id": "zrZjfra40ESi",
        "colab_type": "code",
        "colab": {
          "base_uri": "https://localhost:8080/",
          "height": 34
        },
        "outputId": "90f45ba0-c7bf-4d79-df68-d871bae6ea42"
      },
      "source": [
        "dot(A, v1)"
      ],
      "execution_count": 60,
      "outputs": [
        {
          "output_type": "execute_result",
          "data": {
            "text/plain": [
              "array([ 30, 130, 230, 330, 430])"
            ]
          },
          "metadata": {
            "tags": []
          },
          "execution_count": 60
        }
      ]
    },
    {
      "cell_type": "code",
      "metadata": {
        "id": "IdIVi7BL0ESj",
        "colab_type": "code",
        "colab": {
          "base_uri": "https://localhost:8080/",
          "height": 34
        },
        "outputId": "a8807c97-47ce-456a-b01f-2b94ae5b4077"
      },
      "source": [
        "dot(v1, v1)"
      ],
      "execution_count": 61,
      "outputs": [
        {
          "output_type": "execute_result",
          "data": {
            "text/plain": [
              "30"
            ]
          },
          "metadata": {
            "tags": []
          },
          "execution_count": 61
        }
      ]
    },
    {
      "cell_type": "markdown",
      "metadata": {
        "id": "sRoyGrx90ESk",
        "colab_type": "text"
      },
      "source": [
        "Alternatively, we can cast the array objects to the type `matrix`. This changes the behavior of the standard arithmetic operators `+, -, *` to use matrix algebra."
      ]
    },
    {
      "cell_type": "code",
      "metadata": {
        "id": "vHsq5ps55tcf",
        "colab_type": "code",
        "colab": {
          "base_uri": "https://localhost:8080/",
          "height": 102
        },
        "outputId": "e802b00a-707b-4e46-90cb-c1978818cb26"
      },
      "source": [
        "A"
      ],
      "execution_count": 64,
      "outputs": [
        {
          "output_type": "execute_result",
          "data": {
            "text/plain": [
              "array([[ 0,  1,  2,  3,  4],\n",
              "       [10, 11, 12, 13, 14],\n",
              "       [20, 21, 22, 23, 24],\n",
              "       [30, 31, 32, 33, 34],\n",
              "       [40, 41, 42, 43, 44]])"
            ]
          },
          "metadata": {
            "tags": []
          },
          "execution_count": 64
        }
      ]
    },
    {
      "cell_type": "code",
      "metadata": {
        "id": "ZlGizTlW0ESk",
        "colab_type": "code",
        "colab": {}
      },
      "source": [
        "M = matrix(A)\n",
        "v = matrix(v1).T # make it a column vector"
      ],
      "execution_count": 0,
      "outputs": []
    },
    {
      "cell_type": "code",
      "metadata": {
        "id": "gX1DELSq50Ec",
        "colab_type": "code",
        "colab": {
          "base_uri": "https://localhost:8080/",
          "height": 102
        },
        "outputId": "2d51867c-7bdd-4fce-cff6-269b43fd9f83"
      },
      "source": [
        "M"
      ],
      "execution_count": 67,
      "outputs": [
        {
          "output_type": "execute_result",
          "data": {
            "text/plain": [
              "matrix([[ 0,  1,  2,  3,  4],\n",
              "        [10, 11, 12, 13, 14],\n",
              "        [20, 21, 22, 23, 24],\n",
              "        [30, 31, 32, 33, 34],\n",
              "        [40, 41, 42, 43, 44]])"
            ]
          },
          "metadata": {
            "tags": []
          },
          "execution_count": 67
        }
      ]
    },
    {
      "cell_type": "code",
      "metadata": {
        "id": "NXdPZxvp0ESm",
        "colab_type": "code",
        "colab": {
          "base_uri": "https://localhost:8080/",
          "height": 102
        },
        "outputId": "f8de7cda-87f6-4117-bf83-2626c87530ab"
      },
      "source": [
        "v"
      ],
      "execution_count": 69,
      "outputs": [
        {
          "output_type": "execute_result",
          "data": {
            "text/plain": [
              "matrix([[0],\n",
              "        [1],\n",
              "        [2],\n",
              "        [3],\n",
              "        [4]])"
            ]
          },
          "metadata": {
            "tags": []
          },
          "execution_count": 69
        }
      ]
    },
    {
      "cell_type": "code",
      "metadata": {
        "id": "IKFW_e-r0ESn",
        "colab_type": "code",
        "colab": {},
        "outputId": "fb516d7e-a543-4e59-83ba-84f2e2f5b17e"
      },
      "source": [
        "M * M"
      ],
      "execution_count": 0,
      "outputs": [
        {
          "output_type": "execute_result",
          "data": {
            "text/plain": [
              "matrix([[ 300,  310,  320,  330,  340],\n",
              "        [1300, 1360, 1420, 1480, 1540],\n",
              "        [2300, 2410, 2520, 2630, 2740],\n",
              "        [3300, 3460, 3620, 3780, 3940],\n",
              "        [4300, 4510, 4720, 4930, 5140]])"
            ]
          },
          "metadata": {
            "tags": []
          },
          "execution_count": 70
        }
      ]
    },
    {
      "cell_type": "code",
      "metadata": {
        "id": "E0ingG9L0ESo",
        "colab_type": "code",
        "colab": {},
        "outputId": "9d794a4e-c51f-4b0f-ff47-e5e98da68b68"
      },
      "source": [
        "M * v"
      ],
      "execution_count": 0,
      "outputs": [
        {
          "output_type": "execute_result",
          "data": {
            "text/plain": [
              "matrix([[ 30],\n",
              "        [130],\n",
              "        [230],\n",
              "        [330],\n",
              "        [430]])"
            ]
          },
          "metadata": {
            "tags": []
          },
          "execution_count": 71
        }
      ]
    },
    {
      "cell_type": "code",
      "metadata": {
        "id": "BfW418_B0ESq",
        "colab_type": "code",
        "colab": {
          "base_uri": "https://localhost:8080/",
          "height": 34
        },
        "outputId": "dd8c3279-1ad1-401a-bded-4abc1a9719a6"
      },
      "source": [
        "# inner product\n",
        "v.T * v"
      ],
      "execution_count": 70,
      "outputs": [
        {
          "output_type": "execute_result",
          "data": {
            "text/plain": [
              "matrix([[30]])"
            ]
          },
          "metadata": {
            "tags": []
          },
          "execution_count": 70
        }
      ]
    },
    {
      "cell_type": "code",
      "metadata": {
        "id": "TnccJPQb0ESr",
        "colab_type": "code",
        "colab": {},
        "outputId": "80af5c72-73d1-4a22-c59e-0bd5c4ad9d43"
      },
      "source": [
        "# with matrix objects, standard matrix algebra applies\n",
        "v + M*v"
      ],
      "execution_count": 0,
      "outputs": [
        {
          "output_type": "execute_result",
          "data": {
            "text/plain": [
              "matrix([[ 30],\n",
              "        [131],\n",
              "        [232],\n",
              "        [333],\n",
              "        [434]])"
            ]
          },
          "metadata": {
            "tags": []
          },
          "execution_count": 73
        }
      ]
    },
    {
      "cell_type": "markdown",
      "metadata": {
        "id": "Vj8Ylsdz0ESt",
        "colab_type": "text"
      },
      "source": [
        "If we try to add, subtract or multiply objects with incomplatible shapes we get an error:"
      ]
    },
    {
      "cell_type": "code",
      "metadata": {
        "id": "F0Z3HpQw0ESt",
        "colab_type": "code",
        "colab": {}
      },
      "source": [
        "v = matrix([1,2,3,4,5,6]).T"
      ],
      "execution_count": 0,
      "outputs": []
    },
    {
      "cell_type": "code",
      "metadata": {
        "id": "WxdVymwP0ESv",
        "colab_type": "code",
        "colab": {
          "base_uri": "https://localhost:8080/",
          "height": 34
        },
        "outputId": "c7248fc1-5530-435f-c397-ddb6bce5fc32"
      },
      "source": [
        "shape(M), shape(v)"
      ],
      "execution_count": 72,
      "outputs": [
        {
          "output_type": "execute_result",
          "data": {
            "text/plain": [
              "((5, 5), (6, 1))"
            ]
          },
          "metadata": {
            "tags": []
          },
          "execution_count": 72
        }
      ]
    },
    {
      "cell_type": "code",
      "metadata": {
        "id": "C7u5aLDR0ESx",
        "colab_type": "code",
        "colab": {
          "base_uri": "https://localhost:8080/",
          "height": 316
        },
        "outputId": "3c511c86-1ffc-4c79-da28-a711c3a71a76"
      },
      "source": [
        "M * v"
      ],
      "execution_count": 73,
      "outputs": [
        {
          "output_type": "error",
          "ename": "ValueError",
          "evalue": "ignored",
          "traceback": [
            "\u001b[0;31m---------------------------------------------------------------------------\u001b[0m",
            "\u001b[0;31mValueError\u001b[0m                                Traceback (most recent call last)",
            "\u001b[0;32m<ipython-input-73-e8f88679fe45>\u001b[0m in \u001b[0;36m<module>\u001b[0;34m()\u001b[0m\n\u001b[0;32m----> 1\u001b[0;31m \u001b[0mM\u001b[0m \u001b[0;34m*\u001b[0m \u001b[0mv\u001b[0m\u001b[0;34m\u001b[0m\u001b[0;34m\u001b[0m\u001b[0m\n\u001b[0m",
            "\u001b[0;32m/usr/local/lib/python3.6/dist-packages/numpy/matrixlib/defmatrix.py\u001b[0m in \u001b[0;36m__mul__\u001b[0;34m(self, other)\u001b[0m\n\u001b[1;32m    218\u001b[0m         \u001b[0;32mif\u001b[0m \u001b[0misinstance\u001b[0m\u001b[0;34m(\u001b[0m\u001b[0mother\u001b[0m\u001b[0;34m,\u001b[0m \u001b[0;34m(\u001b[0m\u001b[0mN\u001b[0m\u001b[0;34m.\u001b[0m\u001b[0mndarray\u001b[0m\u001b[0;34m,\u001b[0m \u001b[0mlist\u001b[0m\u001b[0;34m,\u001b[0m \u001b[0mtuple\u001b[0m\u001b[0;34m)\u001b[0m\u001b[0;34m)\u001b[0m \u001b[0;34m:\u001b[0m\u001b[0;34m\u001b[0m\u001b[0;34m\u001b[0m\u001b[0m\n\u001b[1;32m    219\u001b[0m             \u001b[0;31m# This promotes 1-D vectors to row vectors\u001b[0m\u001b[0;34m\u001b[0m\u001b[0;34m\u001b[0m\u001b[0;34m\u001b[0m\u001b[0m\n\u001b[0;32m--> 220\u001b[0;31m             \u001b[0;32mreturn\u001b[0m \u001b[0mN\u001b[0m\u001b[0;34m.\u001b[0m\u001b[0mdot\u001b[0m\u001b[0;34m(\u001b[0m\u001b[0mself\u001b[0m\u001b[0;34m,\u001b[0m \u001b[0masmatrix\u001b[0m\u001b[0;34m(\u001b[0m\u001b[0mother\u001b[0m\u001b[0;34m)\u001b[0m\u001b[0;34m)\u001b[0m\u001b[0;34m\u001b[0m\u001b[0;34m\u001b[0m\u001b[0m\n\u001b[0m\u001b[1;32m    221\u001b[0m         \u001b[0;32mif\u001b[0m \u001b[0misscalar\u001b[0m\u001b[0;34m(\u001b[0m\u001b[0mother\u001b[0m\u001b[0;34m)\u001b[0m \u001b[0;32mor\u001b[0m \u001b[0;32mnot\u001b[0m \u001b[0mhasattr\u001b[0m\u001b[0;34m(\u001b[0m\u001b[0mother\u001b[0m\u001b[0;34m,\u001b[0m \u001b[0;34m'__rmul__'\u001b[0m\u001b[0;34m)\u001b[0m \u001b[0;34m:\u001b[0m\u001b[0;34m\u001b[0m\u001b[0;34m\u001b[0m\u001b[0m\n\u001b[1;32m    222\u001b[0m             \u001b[0;32mreturn\u001b[0m \u001b[0mN\u001b[0m\u001b[0;34m.\u001b[0m\u001b[0mdot\u001b[0m\u001b[0;34m(\u001b[0m\u001b[0mself\u001b[0m\u001b[0;34m,\u001b[0m \u001b[0mother\u001b[0m\u001b[0;34m)\u001b[0m\u001b[0;34m\u001b[0m\u001b[0;34m\u001b[0m\u001b[0m\n",
            "\u001b[0;32m<__array_function__ internals>\u001b[0m in \u001b[0;36mdot\u001b[0;34m(*args, **kwargs)\u001b[0m\n",
            "\u001b[0;31mValueError\u001b[0m: shapes (5,5) and (6,1) not aligned: 5 (dim 1) != 6 (dim 0)"
          ]
        }
      ]
    },
    {
      "cell_type": "markdown",
      "metadata": {
        "id": "Ot9ct3lI0ES0",
        "colab_type": "text"
      },
      "source": [
        "See also the related functions: `inner`, `outer`, `cross`, `kron`, `tensordot`. Try for example `help(kron)`."
      ]
    },
    {
      "cell_type": "markdown",
      "metadata": {
        "id": "VrB-pbUu0ES1",
        "colab_type": "text"
      },
      "source": [
        "### Array/Matrix transformations"
      ]
    },
    {
      "cell_type": "markdown",
      "metadata": {
        "id": "ePYAO55v0ES2",
        "colab_type": "text"
      },
      "source": [
        "Above we have used the `.T` to transpose the matrix object `v`. We could also have used the `transpose` function to accomplish the same thing. \n",
        "\n",
        "Other mathematical functions that transform matrix objects are:"
      ]
    },
    {
      "cell_type": "code",
      "metadata": {
        "id": "42gm1T6D0ES2",
        "colab_type": "code",
        "colab": {
          "base_uri": "https://localhost:8080/",
          "height": 51
        },
        "outputId": "b2a20eb7-0c28-4336-81e8-f1e82aeb7f52"
      },
      "source": [
        "C = matrix([[1j, 2j], [3j, 4j]])\n",
        "C"
      ],
      "execution_count": 80,
      "outputs": [
        {
          "output_type": "execute_result",
          "data": {
            "text/plain": [
              "matrix([[0.+1.j, 0.+2.j],\n",
              "        [0.+3.j, 0.+4.j]])"
            ]
          },
          "metadata": {
            "tags": []
          },
          "execution_count": 80
        }
      ]
    },
    {
      "cell_type": "code",
      "metadata": {
        "id": "8uCAjXlQ0ES9",
        "colab_type": "code",
        "colab": {
          "base_uri": "https://localhost:8080/",
          "height": 51
        },
        "outputId": "8a6073c1-fa45-46a0-b567-1daaa4495055"
      },
      "source": [
        "conjugate(C)"
      ],
      "execution_count": 81,
      "outputs": [
        {
          "output_type": "execute_result",
          "data": {
            "text/plain": [
              "matrix([[0.-1.j, 0.-2.j],\n",
              "        [0.-3.j, 0.-4.j]])"
            ]
          },
          "metadata": {
            "tags": []
          },
          "execution_count": 81
        }
      ]
    },
    {
      "cell_type": "markdown",
      "metadata": {
        "id": "jEGJaPxi0ES_",
        "colab_type": "text"
      },
      "source": [
        "Hermitian conjugate: transpose + conjugate"
      ]
    },
    {
      "cell_type": "code",
      "metadata": {
        "id": "hzcXLxcs0ETA",
        "colab_type": "code",
        "colab": {
          "base_uri": "https://localhost:8080/",
          "height": 51
        },
        "outputId": "975aa6a3-cf3d-4333-803c-3a203bca7ca4"
      },
      "source": [
        "C.H"
      ],
      "execution_count": 82,
      "outputs": [
        {
          "output_type": "execute_result",
          "data": {
            "text/plain": [
              "matrix([[0.-1.j, 0.-3.j],\n",
              "        [0.-2.j, 0.-4.j]])"
            ]
          },
          "metadata": {
            "tags": []
          },
          "execution_count": 82
        }
      ]
    },
    {
      "cell_type": "markdown",
      "metadata": {
        "id": "z2RbVq0W0ETD",
        "colab_type": "text"
      },
      "source": [
        "We can extract the real and imaginary parts of complex-valued arrays using `real` and `imag`:"
      ]
    },
    {
      "cell_type": "code",
      "metadata": {
        "id": "SguxLJQ60ETE",
        "colab_type": "code",
        "colab": {},
        "outputId": "0d2db761-97d6-42d2-e01a-6c72d7b1a9d9"
      },
      "source": [
        "real(C) # same as: C.real"
      ],
      "execution_count": 0,
      "outputs": [
        {
          "output_type": "execute_result",
          "data": {
            "text/plain": [
              "matrix([[0., 0.],\n",
              "        [0., 0.]])"
            ]
          },
          "metadata": {
            "tags": []
          },
          "execution_count": 80
        }
      ]
    },
    {
      "cell_type": "code",
      "metadata": {
        "id": "ar4cHmGe0ETJ",
        "colab_type": "code",
        "colab": {},
        "outputId": "71c9d26c-4bd3-4df3-a65a-361f28243060"
      },
      "source": [
        "imag(C) # same as: C.imag"
      ],
      "execution_count": 0,
      "outputs": [
        {
          "output_type": "execute_result",
          "data": {
            "text/plain": [
              "matrix([[1., 2.],\n",
              "        [3., 4.]])"
            ]
          },
          "metadata": {
            "tags": []
          },
          "execution_count": 81
        }
      ]
    },
    {
      "cell_type": "markdown",
      "metadata": {
        "id": "GzQEOd2h0ETM",
        "colab_type": "text"
      },
      "source": [
        "Or the complex argument and absolute value"
      ]
    },
    {
      "cell_type": "code",
      "metadata": {
        "id": "WnbKjmdA0ETM",
        "colab_type": "code",
        "colab": {
          "base_uri": "https://localhost:8080/",
          "height": 51
        },
        "outputId": "7d816f30-531f-4ec8-9da0-e848ea5bb427"
      },
      "source": [
        "angle(C+1) # heads up MATLAB Users, angle is used instead of arg"
      ],
      "execution_count": 83,
      "outputs": [
        {
          "output_type": "execute_result",
          "data": {
            "text/plain": [
              "matrix([[0.78539816, 1.10714872],\n",
              "        [1.24904577, 1.32581766]])"
            ]
          },
          "metadata": {
            "tags": []
          },
          "execution_count": 83
        }
      ]
    },
    {
      "cell_type": "code",
      "metadata": {
        "id": "QUlKFuax0ETS",
        "colab_type": "code",
        "colab": {
          "base_uri": "https://localhost:8080/",
          "height": 51
        },
        "outputId": "defc4498-480d-4bee-d232-b0abd16440a0"
      },
      "source": [
        "abs(C)"
      ],
      "execution_count": 84,
      "outputs": [
        {
          "output_type": "execute_result",
          "data": {
            "text/plain": [
              "matrix([[1., 2.],\n",
              "        [3., 4.]])"
            ]
          },
          "metadata": {
            "tags": []
          },
          "execution_count": 84
        }
      ]
    },
    {
      "cell_type": "markdown",
      "metadata": {
        "id": "fYae8xdI0ETT",
        "colab_type": "text"
      },
      "source": [
        "### Matrix computations"
      ]
    },
    {
      "cell_type": "markdown",
      "metadata": {
        "id": "KZr8xbyi0ETU",
        "colab_type": "text"
      },
      "source": [
        "#### Inverse"
      ]
    },
    {
      "cell_type": "code",
      "metadata": {
        "id": "FMP9FaTu0ETU",
        "colab_type": "code",
        "colab": {},
        "outputId": "f711b6a5-d7f3-4352-c4d5-be3be4296a0d"
      },
      "source": [
        "linalg.inv(C) # equivalent to C.I "
      ],
      "execution_count": 0,
      "outputs": [
        {
          "output_type": "execute_result",
          "data": {
            "text/plain": [
              "matrix([[0.+2.j , 0.-1.j ],\n",
              "        [0.-1.5j, 0.+0.5j]])"
            ]
          },
          "metadata": {
            "tags": []
          },
          "execution_count": 84
        }
      ]
    },
    {
      "cell_type": "code",
      "metadata": {
        "id": "xQPJi9wh0ETW",
        "colab_type": "code",
        "colab": {},
        "outputId": "04affbd5-7417-43f8-9986-5807804aa8db"
      },
      "source": [
        "C.I * C"
      ],
      "execution_count": 0,
      "outputs": [
        {
          "output_type": "execute_result",
          "data": {
            "text/plain": [
              "matrix([[1.00000000e+00+0.j, 0.00000000e+00+0.j],\n",
              "        [1.11022302e-16+0.j, 1.00000000e+00+0.j]])"
            ]
          },
          "metadata": {
            "tags": []
          },
          "execution_count": 85
        }
      ]
    },
    {
      "cell_type": "markdown",
      "metadata": {
        "id": "cWG0TM4y0ETX",
        "colab_type": "text"
      },
      "source": [
        "#### Determinant"
      ]
    },
    {
      "cell_type": "code",
      "metadata": {
        "id": "cnu31rt60ETY",
        "colab_type": "code",
        "colab": {},
        "outputId": "bfb01bd3-2767-4a99-cf54-b2ccd0e86b47"
      },
      "source": [
        "linalg.det(C)"
      ],
      "execution_count": 0,
      "outputs": [
        {
          "output_type": "execute_result",
          "data": {
            "text/plain": [
              "(2.0000000000000004+0j)"
            ]
          },
          "metadata": {
            "tags": []
          },
          "execution_count": 86
        }
      ]
    },
    {
      "cell_type": "code",
      "metadata": {
        "id": "BnGZY_7f0ETa",
        "colab_type": "code",
        "colab": {},
        "outputId": "7cd74bb9-2820-407c-e344-a38c9b6e1a98"
      },
      "source": [
        "linalg.det(C.I)"
      ],
      "execution_count": 0,
      "outputs": [
        {
          "output_type": "execute_result",
          "data": {
            "text/plain": [
              "(0.49999999999999967+0j)"
            ]
          },
          "metadata": {
            "tags": []
          },
          "execution_count": 87
        }
      ]
    },
    {
      "cell_type": "markdown",
      "metadata": {
        "id": "57xJ-C1f0ETc",
        "colab_type": "text"
      },
      "source": [
        "### Data processing"
      ]
    },
    {
      "cell_type": "markdown",
      "metadata": {
        "id": "Zu675G2D0ETc",
        "colab_type": "text"
      },
      "source": [
        "Often it is useful to store datasets in Numpy arrays. Numpy provides a number of functions to calculate statistics of datasets in arrays. \n",
        "\n",
        "For example, let's calculate some properties from the Stockholm temperature dataset."
      ]
    },
    {
      "cell_type": "code",
      "metadata": {
        "id": "l00ECJXb0ETe",
        "colab_type": "code",
        "colab": {
          "base_uri": "https://localhost:8080/",
          "height": 34
        },
        "outputId": "d9480aea-3866-4135-c837-4321aa561f4b"
      },
      "source": [
        "!head stockholm_td_adj.dat"
      ],
      "execution_count": 106,
      "outputs": [
        {
          "output_type": "stream",
          "text": [
            "head: cannot open 'stockholm_td_adj.dat' for reading: No such file or directory\n"
          ],
          "name": "stdout"
        }
      ]
    },
    {
      "cell_type": "code",
      "metadata": {
        "id": "tSQkqI3I0ETg",
        "colab_type": "code",
        "colab": {}
      },
      "source": [
        "data = genfromtxt('stockholm_td_adj.dat')"
      ],
      "execution_count": 0,
      "outputs": []
    },
    {
      "cell_type": "code",
      "metadata": {
        "id": "6xIq7qOz0ETh",
        "colab_type": "code",
        "colab": {
          "base_uri": "https://localhost:8080/",
          "height": 163
        },
        "outputId": "5a77c4c0-dc09-4d29-abbf-258e0d7de06e"
      },
      "source": [
        "# reminder, the tempeature dataset is stored in the data variable:\n",
        "shape(data)"
      ],
      "execution_count": 86,
      "outputs": [
        {
          "output_type": "error",
          "ename": "NameError",
          "evalue": "ignored",
          "traceback": [
            "\u001b[0;31m---------------------------------------------------------------------------\u001b[0m",
            "\u001b[0;31mNameError\u001b[0m                                 Traceback (most recent call last)",
            "\u001b[0;32m<ipython-input-86-5d860560bf0e>\u001b[0m in \u001b[0;36m<module>\u001b[0;34m()\u001b[0m\n\u001b[0;32m----> 1\u001b[0;31m \u001b[0mshape\u001b[0m\u001b[0;34m(\u001b[0m\u001b[0mdata\u001b[0m\u001b[0;34m)\u001b[0m\u001b[0;34m\u001b[0m\u001b[0;34m\u001b[0m\u001b[0m\n\u001b[0m",
            "\u001b[0;31mNameError\u001b[0m: name 'data' is not defined"
          ]
        }
      ]
    },
    {
      "cell_type": "code",
      "metadata": {
        "id": "5icq2p7Z0ETj",
        "colab_type": "code",
        "colab": {},
        "outputId": "87c7e85b-d49c-4cb5-973d-13e2146ae644"
      },
      "source": [
        "fig, ax = plt.subplots(figsize=(14,4))\n",
        "ax.plot(data[:,0]+data[:,1]/12.0+data[:,2]/365, data[:,5])\n",
        "ax.axis('tight')\n",
        "ax.set_title('tempeatures in Stockholm')\n",
        "ax.set_xlabel('year')\n",
        "ax.set_ylabel('temperature (C)');"
      ],
      "execution_count": 0,
      "outputs": [
        {
          "output_type": "display_data",
          "data": {
            "image/png": "[encoded data removed]",
            "text/plain": [
              "<Figure size 1008x288 with 1 Axes>"
            ]
          },
          "metadata": {
            "tags": [],
            "needs_background": "light"
          }
        }
      ]
    },
    {
      "cell_type": "markdown",
      "metadata": {
        "id": "zO-3hYl10ETk",
        "colab_type": "text"
      },
      "source": [
        "#### mean"
      ]
    },
    {
      "cell_type": "code",
      "metadata": {
        "id": "mKiVHKgG0ETl",
        "colab_type": "code",
        "colab": {},
        "outputId": "af0c154e-a09a-4a90-afb2-276c8b47eda4"
      },
      "source": [
        "# the temperature data is in column 3\n",
        "mean(data[:,3])"
      ],
      "execution_count": 0,
      "outputs": [
        {
          "output_type": "execute_result",
          "data": {
            "text/plain": [
              "6.197109684751585"
            ]
          },
          "metadata": {
            "tags": []
          },
          "execution_count": 103
        }
      ]
    },
    {
      "cell_type": "markdown",
      "metadata": {
        "id": "2SrQGb_Z0ETm",
        "colab_type": "text"
      },
      "source": [
        "The daily mean temperature in Stockholm over the last 200 years has been about 6.2 C."
      ]
    },
    {
      "cell_type": "markdown",
      "metadata": {
        "id": "k07bcGt40ETn",
        "colab_type": "text"
      },
      "source": [
        "#### standard deviations and variance"
      ]
    },
    {
      "cell_type": "code",
      "metadata": {
        "id": "V6ZCn-gv0ETn",
        "colab_type": "code",
        "colab": {},
        "outputId": "9288e3f4-9b33-48c2-9ac3-901116f13ee0"
      },
      "source": [
        "std(data[:,3]), var(data[:,3])"
      ],
      "execution_count": 0,
      "outputs": [
        {
          "output_type": "execute_result",
          "data": {
            "text/plain": [
              "(8.282271621340573, 68.59602320966341)"
            ]
          },
          "metadata": {
            "tags": []
          },
          "execution_count": 104
        }
      ]
    },
    {
      "cell_type": "markdown",
      "metadata": {
        "id": "Ru1-RQ1r0ETq",
        "colab_type": "text"
      },
      "source": [
        "#### min and max"
      ]
    },
    {
      "cell_type": "code",
      "metadata": {
        "id": "iueJCvpR0ETr",
        "colab_type": "code",
        "colab": {},
        "outputId": "77416b66-374a-469a-849d-d97e4770219c"
      },
      "source": [
        "# lowest daily average temperature\n",
        "data[:,3].min()"
      ],
      "execution_count": 0,
      "outputs": [
        {
          "output_type": "execute_result",
          "data": {
            "text/plain": [
              "-25.8"
            ]
          },
          "metadata": {
            "tags": []
          },
          "execution_count": 105
        }
      ]
    },
    {
      "cell_type": "code",
      "metadata": {
        "id": "BQpURGR00ETs",
        "colab_type": "code",
        "colab": {},
        "outputId": "23cefca2-17c6-4bd0-89a2-93c1f66eaff0"
      },
      "source": [
        "# highest daily average temperature\n",
        "data[:,3].max()"
      ],
      "execution_count": 0,
      "outputs": [
        {
          "output_type": "execute_result",
          "data": {
            "text/plain": [
              "28.3"
            ]
          },
          "metadata": {
            "tags": []
          },
          "execution_count": 106
        }
      ]
    },
    {
      "cell_type": "markdown",
      "metadata": {
        "id": "XN-AI2-y0ETv",
        "colab_type": "text"
      },
      "source": [
        "#### sum, prod, and trace"
      ]
    },
    {
      "cell_type": "code",
      "metadata": {
        "id": "VODmgMVV0ETv",
        "colab_type": "code",
        "colab": {
          "base_uri": "https://localhost:8080/",
          "height": 34
        },
        "outputId": "62a357f0-9f8b-4e66-e46b-b5cf268da938"
      },
      "source": [
        "d = arange(0, 10)\n",
        "d"
      ],
      "execution_count": 89,
      "outputs": [
        {
          "output_type": "execute_result",
          "data": {
            "text/plain": [
              "array([0, 1, 2, 3, 4, 5, 6, 7, 8, 9])"
            ]
          },
          "metadata": {
            "tags": []
          },
          "execution_count": 89
        }
      ]
    },
    {
      "cell_type": "code",
      "metadata": {
        "id": "nUmzZldx0ETx",
        "colab_type": "code",
        "colab": {
          "base_uri": "https://localhost:8080/",
          "height": 34
        },
        "outputId": "64c84151-7a08-4857-960d-79418f523e80"
      },
      "source": [
        "# sum up all elements\n",
        "sum(d)"
      ],
      "execution_count": 90,
      "outputs": [
        {
          "output_type": "execute_result",
          "data": {
            "text/plain": [
              "45"
            ]
          },
          "metadata": {
            "tags": []
          },
          "execution_count": 90
        }
      ]
    },
    {
      "cell_type": "code",
      "metadata": {
        "id": "Vl9xJB6T0ETy",
        "colab_type": "code",
        "colab": {
          "base_uri": "https://localhost:8080/",
          "height": 34
        },
        "outputId": "4f0276f7-8a4a-4938-f9a1-60d55aebc1e5"
      },
      "source": [
        "# product of all elements\n",
        "prod(d+1)"
      ],
      "execution_count": 91,
      "outputs": [
        {
          "output_type": "execute_result",
          "data": {
            "text/plain": [
              "3628800"
            ]
          },
          "metadata": {
            "tags": []
          },
          "execution_count": 91
        }
      ]
    },
    {
      "cell_type": "code",
      "metadata": {
        "id": "sobC0e1E0ET0",
        "colab_type": "code",
        "colab": {
          "base_uri": "https://localhost:8080/",
          "height": 34
        },
        "outputId": "4415b71f-3b0b-4937-f711-4031f8238699"
      },
      "source": [
        "# cummulative sum\n",
        "cumsum(d)"
      ],
      "execution_count": 92,
      "outputs": [
        {
          "output_type": "execute_result",
          "data": {
            "text/plain": [
              "array([ 0,  1,  3,  6, 10, 15, 21, 28, 36, 45])"
            ]
          },
          "metadata": {
            "tags": []
          },
          "execution_count": 92
        }
      ]
    },
    {
      "cell_type": "code",
      "metadata": {
        "id": "vFXU0cQl0ET2",
        "colab_type": "code",
        "colab": {
          "base_uri": "https://localhost:8080/",
          "height": 51
        },
        "outputId": "cb5d4232-647c-44e2-c855-cc424894a8c9"
      },
      "source": [
        "# cummulative product\n",
        "cumprod(d+1)"
      ],
      "execution_count": 93,
      "outputs": [
        {
          "output_type": "execute_result",
          "data": {
            "text/plain": [
              "array([      1,       2,       6,      24,     120,     720,    5040,\n",
              "         40320,  362880, 3628800])"
            ]
          },
          "metadata": {
            "tags": []
          },
          "execution_count": 93
        }
      ]
    },
    {
      "cell_type": "code",
      "metadata": {
        "id": "SeSlWuwo0ET3",
        "colab_type": "code",
        "colab": {
          "base_uri": "https://localhost:8080/",
          "height": 34
        },
        "outputId": "29925744-618d-4092-80f1-22022af20fa6"
      },
      "source": [
        "# same as: diag(A).sum()\n",
        "trace(A)"
      ],
      "execution_count": 94,
      "outputs": [
        {
          "output_type": "execute_result",
          "data": {
            "text/plain": [
              "110"
            ]
          },
          "metadata": {
            "tags": []
          },
          "execution_count": 94
        }
      ]
    },
    {
      "cell_type": "markdown",
      "metadata": {
        "id": "WDg2fPd80ET5",
        "colab_type": "text"
      },
      "source": [
        "## Copy and \"deep copy\""
      ]
    },
    {
      "cell_type": "markdown",
      "metadata": {
        "id": "wNrg7twU0ET5",
        "colab_type": "text"
      },
      "source": [
        "To achieve high performance, assignments in Python usually do not copy the underlying objects. This is important for example when objects are passed between functions, to avoid an excessive amount of memory copying when it is not necessary (technical term: pass by reference). "
      ]
    },
    {
      "cell_type": "code",
      "metadata": {
        "id": "GybVZSVt0ET6",
        "colab_type": "code",
        "colab": {
          "base_uri": "https://localhost:8080/",
          "height": 51
        },
        "outputId": "4cf89722-b0a8-4a07-9bdb-fd089c6c0d0c"
      },
      "source": [
        "A = array([[1, 2], [3, 4]])\n",
        "\n",
        "A"
      ],
      "execution_count": 95,
      "outputs": [
        {
          "output_type": "execute_result",
          "data": {
            "text/plain": [
              "array([[1, 2],\n",
              "       [3, 4]])"
            ]
          },
          "metadata": {
            "tags": []
          },
          "execution_count": 95
        }
      ]
    },
    {
      "cell_type": "code",
      "metadata": {
        "id": "I69yE7Qm0ET8",
        "colab_type": "code",
        "colab": {}
      },
      "source": [
        "# now B is referring to the same array data as A \n",
        "B = A "
      ],
      "execution_count": 0,
      "outputs": []
    },
    {
      "cell_type": "code",
      "metadata": {
        "id": "53pDBnol0ET-",
        "colab_type": "code",
        "colab": {
          "base_uri": "https://localhost:8080/",
          "height": 51
        },
        "outputId": "7023794f-5bdb-429d-b72c-f8ca1ede7df7"
      },
      "source": [
        "# changing B affects A\n",
        "B[0,0] = 10\n",
        "\n",
        "B"
      ],
      "execution_count": 97,
      "outputs": [
        {
          "output_type": "execute_result",
          "data": {
            "text/plain": [
              "array([[10,  2],\n",
              "       [ 3,  4]])"
            ]
          },
          "metadata": {
            "tags": []
          },
          "execution_count": 97
        }
      ]
    },
    {
      "cell_type": "code",
      "metadata": {
        "id": "3Y4aSk_D0ET_",
        "colab_type": "code",
        "colab": {
          "base_uri": "https://localhost:8080/",
          "height": 51
        },
        "outputId": "e823e3f9-65b3-4286-d307-7a37a7dfc770"
      },
      "source": [
        "A"
      ],
      "execution_count": 98,
      "outputs": [
        {
          "output_type": "execute_result",
          "data": {
            "text/plain": [
              "array([[10,  2],\n",
              "       [ 3,  4]])"
            ]
          },
          "metadata": {
            "tags": []
          },
          "execution_count": 98
        }
      ]
    },
    {
      "cell_type": "markdown",
      "metadata": {
        "id": "57rh98C40EUA",
        "colab_type": "text"
      },
      "source": [
        "If we want to avoid this behavior, so that when we get a new completely independent object `B` copied from `A`, then we need to do a so-called \"deep copy\" using the function `copy`:"
      ]
    },
    {
      "cell_type": "code",
      "metadata": {
        "id": "xihr5RDj0EUA",
        "colab_type": "code",
        "colab": {}
      },
      "source": [
        "B = copy(A)"
      ],
      "execution_count": 0,
      "outputs": []
    },
    {
      "cell_type": "code",
      "metadata": {
        "id": "9hTgboeV0EUB",
        "colab_type": "code",
        "colab": {
          "base_uri": "https://localhost:8080/",
          "height": 51
        },
        "outputId": "1f6f4379-7347-4867-f29e-d16b834a54f2"
      },
      "source": [
        "# now, if we modify B, A is not affected\n",
        "B[0,0] = -5\n",
        "\n",
        "B"
      ],
      "execution_count": 100,
      "outputs": [
        {
          "output_type": "execute_result",
          "data": {
            "text/plain": [
              "array([[-5,  2],\n",
              "       [ 3,  4]])"
            ]
          },
          "metadata": {
            "tags": []
          },
          "execution_count": 100
        }
      ]
    },
    {
      "cell_type": "code",
      "metadata": {
        "id": "15lDjLOo0EUC",
        "colab_type": "code",
        "colab": {
          "base_uri": "https://localhost:8080/",
          "height": 51
        },
        "outputId": "301614eb-5084-4c8e-efe7-ae70243c2723"
      },
      "source": [
        "A"
      ],
      "execution_count": 101,
      "outputs": [
        {
          "output_type": "execute_result",
          "data": {
            "text/plain": [
              "array([[10,  2],\n",
              "       [ 3,  4]])"
            ]
          },
          "metadata": {
            "tags": []
          },
          "execution_count": 101
        }
      ]
    },
    {
      "cell_type": "markdown",
      "metadata": {
        "id": "u4iYKehy0EUF",
        "colab_type": "text"
      },
      "source": [
        "## Further reading"
      ]
    },
    {
      "cell_type": "markdown",
      "metadata": {
        "id": "F7uZKbgF0EUG",
        "colab_type": "text"
      },
      "source": [
        "* http://numpy.scipy.org\n",
        "* http://scipy.org/Tentative_NumPy_Tutorial\n",
        "* http://scipy.org/NumPy_for_Matlab_Users - A Numpy guide for MATLAB users."
      ]
    },
    {
      "cell_type": "markdown",
      "metadata": {
        "id": "getob8hH0EUG",
        "colab_type": "text"
      },
      "source": [
        "## Versions"
      ]
    },
    {
      "cell_type": "code",
      "metadata": {
        "id": "B5esBVN80EUG",
        "colab_type": "code",
        "colab": {
          "base_uri": "https://localhost:8080/",
          "height": 510
        },
        "outputId": "9e2c2ad4-3d2b-4a4f-f909-0fed07db2f29"
      },
      "source": [
        "%reload_ext version_information\n",
        "\n",
        "%version_information numpy"
      ],
      "execution_count": 102,
      "outputs": [
        {
          "output_type": "error",
          "ename": "ModuleNotFoundError",
          "evalue": "ignored",
          "traceback": [
            "\u001b[0;31m---------------------------------------------------------------------------\u001b[0m",
            "\u001b[0;31mModuleNotFoundError\u001b[0m                       Traceback (most recent call last)",
            "\u001b[0;32m<ipython-input-102-1f0572ccbf20>\u001b[0m in \u001b[0;36m<module>\u001b[0;34m()\u001b[0m\n\u001b[0;32m----> 1\u001b[0;31m \u001b[0mget_ipython\u001b[0m\u001b[0;34m(\u001b[0m\u001b[0;34m)\u001b[0m\u001b[0;34m.\u001b[0m\u001b[0mmagic\u001b[0m\u001b[0;34m(\u001b[0m\u001b[0;34m'reload_ext version_information'\u001b[0m\u001b[0;34m)\u001b[0m\u001b[0;34m\u001b[0m\u001b[0;34m\u001b[0m\u001b[0m\n\u001b[0m\u001b[1;32m      2\u001b[0m \u001b[0;34m\u001b[0m\u001b[0m\n\u001b[1;32m      3\u001b[0m \u001b[0mget_ipython\u001b[0m\u001b[0;34m(\u001b[0m\u001b[0;34m)\u001b[0m\u001b[0;34m.\u001b[0m\u001b[0mmagic\u001b[0m\u001b[0;34m(\u001b[0m\u001b[0;34m'version_information numpy'\u001b[0m\u001b[0;34m)\u001b[0m\u001b[0;34m\u001b[0m\u001b[0;34m\u001b[0m\u001b[0m\n",
            "\u001b[0;32m/usr/local/lib/python3.6/dist-packages/IPython/core/interactiveshell.py\u001b[0m in \u001b[0;36mmagic\u001b[0;34m(self, arg_s)\u001b[0m\n\u001b[1;32m   2158\u001b[0m         \u001b[0mmagic_name\u001b[0m\u001b[0;34m,\u001b[0m \u001b[0m_\u001b[0m\u001b[0;34m,\u001b[0m \u001b[0mmagic_arg_s\u001b[0m \u001b[0;34m=\u001b[0m \u001b[0marg_s\u001b[0m\u001b[0;34m.\u001b[0m\u001b[0mpartition\u001b[0m\u001b[0;34m(\u001b[0m\u001b[0;34m' '\u001b[0m\u001b[0;34m)\u001b[0m\u001b[0;34m\u001b[0m\u001b[0;34m\u001b[0m\u001b[0m\n\u001b[1;32m   2159\u001b[0m         \u001b[0mmagic_name\u001b[0m \u001b[0;34m=\u001b[0m \u001b[0mmagic_name\u001b[0m\u001b[0;34m.\u001b[0m\u001b[0mlstrip\u001b[0m\u001b[0;34m(\u001b[0m\u001b[0mprefilter\u001b[0m\u001b[0;34m.\u001b[0m\u001b[0mESC_MAGIC\u001b[0m\u001b[0;34m)\u001b[0m\u001b[0;34m\u001b[0m\u001b[0;34m\u001b[0m\u001b[0m\n\u001b[0;32m-> 2160\u001b[0;31m         \u001b[0;32mreturn\u001b[0m \u001b[0mself\u001b[0m\u001b[0;34m.\u001b[0m\u001b[0mrun_line_magic\u001b[0m\u001b[0;34m(\u001b[0m\u001b[0mmagic_name\u001b[0m\u001b[0;34m,\u001b[0m \u001b[0mmagic_arg_s\u001b[0m\u001b[0;34m)\u001b[0m\u001b[0;34m\u001b[0m\u001b[0;34m\u001b[0m\u001b[0m\n\u001b[0m\u001b[1;32m   2161\u001b[0m \u001b[0;34m\u001b[0m\u001b[0m\n\u001b[1;32m   2162\u001b[0m     \u001b[0;31m#-------------------------------------------------------------------------\u001b[0m\u001b[0;34m\u001b[0m\u001b[0;34m\u001b[0m\u001b[0;34m\u001b[0m\u001b[0m\n",
            "\u001b[0;32m/usr/local/lib/python3.6/dist-packages/IPython/core/interactiveshell.py\u001b[0m in \u001b[0;36mrun_line_magic\u001b[0;34m(self, magic_name, line)\u001b[0m\n\u001b[1;32m   2079\u001b[0m                 \u001b[0mkwargs\u001b[0m\u001b[0;34m[\u001b[0m\u001b[0;34m'local_ns'\u001b[0m\u001b[0;34m]\u001b[0m \u001b[0;34m=\u001b[0m \u001b[0msys\u001b[0m\u001b[0;34m.\u001b[0m\u001b[0m_getframe\u001b[0m\u001b[0;34m(\u001b[0m\u001b[0mstack_depth\u001b[0m\u001b[0;34m)\u001b[0m\u001b[0;34m.\u001b[0m\u001b[0mf_locals\u001b[0m\u001b[0;34m\u001b[0m\u001b[0;34m\u001b[0m\u001b[0m\n\u001b[1;32m   2080\u001b[0m             \u001b[0;32mwith\u001b[0m \u001b[0mself\u001b[0m\u001b[0;34m.\u001b[0m\u001b[0mbuiltin_trap\u001b[0m\u001b[0;34m:\u001b[0m\u001b[0;34m\u001b[0m\u001b[0;34m\u001b[0m\u001b[0m\n\u001b[0;32m-> 2081\u001b[0;31m                 \u001b[0mresult\u001b[0m \u001b[0;34m=\u001b[0m \u001b[0mfn\u001b[0m\u001b[0;34m(\u001b[0m\u001b[0;34m*\u001b[0m\u001b[0margs\u001b[0m\u001b[0;34m,\u001b[0m\u001b[0;34m**\u001b[0m\u001b[0mkwargs\u001b[0m\u001b[0;34m)\u001b[0m\u001b[0;34m\u001b[0m\u001b[0;34m\u001b[0m\u001b[0m\n\u001b[0m\u001b[1;32m   2082\u001b[0m             \u001b[0;32mreturn\u001b[0m \u001b[0mresult\u001b[0m\u001b[0;34m\u001b[0m\u001b[0;34m\u001b[0m\u001b[0m\n\u001b[1;32m   2083\u001b[0m \u001b[0;34m\u001b[0m\u001b[0m\n",
            "\u001b[0;32m</usr/local/lib/python3.6/dist-packages/decorator.py:decorator-gen-65>\u001b[0m in \u001b[0;36mreload_ext\u001b[0;34m(self, module_str)\u001b[0m\n",
            "\u001b[0;32m/usr/local/lib/python3.6/dist-packages/IPython/core/magic.py\u001b[0m in \u001b[0;36m<lambda>\u001b[0;34m(f, *a, **k)\u001b[0m\n\u001b[1;32m    186\u001b[0m     \u001b[0;31m# but it's overkill for just that one bit of state.\u001b[0m\u001b[0;34m\u001b[0m\u001b[0;34m\u001b[0m\u001b[0;34m\u001b[0m\u001b[0m\n\u001b[1;32m    187\u001b[0m     \u001b[0;32mdef\u001b[0m \u001b[0mmagic_deco\u001b[0m\u001b[0;34m(\u001b[0m\u001b[0marg\u001b[0m\u001b[0;34m)\u001b[0m\u001b[0;34m:\u001b[0m\u001b[0;34m\u001b[0m\u001b[0;34m\u001b[0m\u001b[0m\n\u001b[0;32m--> 188\u001b[0;31m         \u001b[0mcall\u001b[0m \u001b[0;34m=\u001b[0m \u001b[0;32mlambda\u001b[0m \u001b[0mf\u001b[0m\u001b[0;34m,\u001b[0m \u001b[0;34m*\u001b[0m\u001b[0ma\u001b[0m\u001b[0;34m,\u001b[0m \u001b[0;34m**\u001b[0m\u001b[0mk\u001b[0m\u001b[0;34m:\u001b[0m \u001b[0mf\u001b[0m\u001b[0;34m(\u001b[0m\u001b[0;34m*\u001b[0m\u001b[0ma\u001b[0m\u001b[0;34m,\u001b[0m \u001b[0;34m**\u001b[0m\u001b[0mk\u001b[0m\u001b[0;34m)\u001b[0m\u001b[0;34m\u001b[0m\u001b[0;34m\u001b[0m\u001b[0m\n\u001b[0m\u001b[1;32m    189\u001b[0m \u001b[0;34m\u001b[0m\u001b[0m\n\u001b[1;32m    190\u001b[0m         \u001b[0;32mif\u001b[0m \u001b[0mcallable\u001b[0m\u001b[0;34m(\u001b[0m\u001b[0marg\u001b[0m\u001b[0;34m)\u001b[0m\u001b[0;34m:\u001b[0m\u001b[0;34m\u001b[0m\u001b[0;34m\u001b[0m\u001b[0m\n",
            "\u001b[0;32m/usr/local/lib/python3.6/dist-packages/IPython/core/magics/extension.py\u001b[0m in \u001b[0;36mreload_ext\u001b[0;34m(self, module_str)\u001b[0m\n\u001b[1;32m     65\u001b[0m         \u001b[0;32mif\u001b[0m \u001b[0;32mnot\u001b[0m \u001b[0mmodule_str\u001b[0m\u001b[0;34m:\u001b[0m\u001b[0;34m\u001b[0m\u001b[0;34m\u001b[0m\u001b[0m\n\u001b[1;32m     66\u001b[0m             \u001b[0;32mraise\u001b[0m \u001b[0mUsageError\u001b[0m\u001b[0;34m(\u001b[0m\u001b[0;34m'Missing module name.'\u001b[0m\u001b[0;34m)\u001b[0m\u001b[0;34m\u001b[0m\u001b[0;34m\u001b[0m\u001b[0m\n\u001b[0;32m---> 67\u001b[0;31m         \u001b[0mself\u001b[0m\u001b[0;34m.\u001b[0m\u001b[0mshell\u001b[0m\u001b[0;34m.\u001b[0m\u001b[0mextension_manager\u001b[0m\u001b[0;34m.\u001b[0m\u001b[0mreload_extension\u001b[0m\u001b[0;34m(\u001b[0m\u001b[0mmodule_str\u001b[0m\u001b[0;34m)\u001b[0m\u001b[0;34m\u001b[0m\u001b[0;34m\u001b[0m\u001b[0m\n\u001b[0m",
            "\u001b[0;32m/usr/local/lib/python3.6/dist-packages/IPython/core/extensions.py\u001b[0m in \u001b[0;36mreload_extension\u001b[0;34m(self, module_str)\u001b[0m\n\u001b[1;32m    126\u001b[0m                 \u001b[0mself\u001b[0m\u001b[0;34m.\u001b[0m\u001b[0mloaded\u001b[0m\u001b[0;34m.\u001b[0m\u001b[0madd\u001b[0m\u001b[0;34m(\u001b[0m\u001b[0mmodule_str\u001b[0m\u001b[0;34m)\u001b[0m\u001b[0;34m\u001b[0m\u001b[0;34m\u001b[0m\u001b[0m\n\u001b[1;32m    127\u001b[0m         \u001b[0;32melse\u001b[0m\u001b[0;34m:\u001b[0m\u001b[0;34m\u001b[0m\u001b[0;34m\u001b[0m\u001b[0m\n\u001b[0;32m--> 128\u001b[0;31m             \u001b[0mself\u001b[0m\u001b[0;34m.\u001b[0m\u001b[0mload_extension\u001b[0m\u001b[0;34m(\u001b[0m\u001b[0mmodule_str\u001b[0m\u001b[0;34m)\u001b[0m\u001b[0;34m\u001b[0m\u001b[0;34m\u001b[0m\u001b[0m\n\u001b[0m\u001b[1;32m    129\u001b[0m \u001b[0;34m\u001b[0m\u001b[0m\n\u001b[1;32m    130\u001b[0m     \u001b[0;32mdef\u001b[0m \u001b[0m_call_load_ipython_extension\u001b[0m\u001b[0;34m(\u001b[0m\u001b[0mself\u001b[0m\u001b[0;34m,\u001b[0m \u001b[0mmod\u001b[0m\u001b[0;34m)\u001b[0m\u001b[0;34m:\u001b[0m\u001b[0;34m\u001b[0m\u001b[0;34m\u001b[0m\u001b[0m\n",
            "\u001b[0;32m/usr/local/lib/python3.6/dist-packages/IPython/core/extensions.py\u001b[0m in \u001b[0;36mload_extension\u001b[0;34m(self, module_str)\u001b[0m\n\u001b[1;32m     81\u001b[0m             \u001b[0;32mif\u001b[0m \u001b[0mmodule_str\u001b[0m \u001b[0;32mnot\u001b[0m \u001b[0;32min\u001b[0m \u001b[0msys\u001b[0m\u001b[0;34m.\u001b[0m\u001b[0mmodules\u001b[0m\u001b[0;34m:\u001b[0m\u001b[0;34m\u001b[0m\u001b[0;34m\u001b[0m\u001b[0m\n\u001b[1;32m     82\u001b[0m                 \u001b[0;32mwith\u001b[0m \u001b[0mprepended_to_syspath\u001b[0m\u001b[0;34m(\u001b[0m\u001b[0mself\u001b[0m\u001b[0;34m.\u001b[0m\u001b[0mipython_extension_dir\u001b[0m\u001b[0;34m)\u001b[0m\u001b[0;34m:\u001b[0m\u001b[0;34m\u001b[0m\u001b[0;34m\u001b[0m\u001b[0m\n\u001b[0;32m---> 83\u001b[0;31m                     \u001b[0m__import__\u001b[0m\u001b[0;34m(\u001b[0m\u001b[0mmodule_str\u001b[0m\u001b[0;34m)\u001b[0m\u001b[0;34m\u001b[0m\u001b[0;34m\u001b[0m\u001b[0m\n\u001b[0m\u001b[1;32m     84\u001b[0m             \u001b[0mmod\u001b[0m \u001b[0;34m=\u001b[0m \u001b[0msys\u001b[0m\u001b[0;34m.\u001b[0m\u001b[0mmodules\u001b[0m\u001b[0;34m[\u001b[0m\u001b[0mmodule_str\u001b[0m\u001b[0;34m]\u001b[0m\u001b[0;34m\u001b[0m\u001b[0;34m\u001b[0m\u001b[0m\n\u001b[1;32m     85\u001b[0m             \u001b[0;32mif\u001b[0m \u001b[0mself\u001b[0m\u001b[0;34m.\u001b[0m\u001b[0m_call_load_ipython_extension\u001b[0m\u001b[0;34m(\u001b[0m\u001b[0mmod\u001b[0m\u001b[0;34m)\u001b[0m\u001b[0;34m:\u001b[0m\u001b[0;34m\u001b[0m\u001b[0;34m\u001b[0m\u001b[0m\n",
            "\u001b[0;31mModuleNotFoundError\u001b[0m: No module named 'version_information'",
            "",
            "\u001b[0;31m---------------------------------------------------------------------------\u001b[0;32m\nNOTE: If your import is failing due to a missing package, you can\nmanually install dependencies using either !pip or !apt.\n\nTo view examples of installing some common dependencies, click the\n\"Open Examples\" button below.\n\u001b[0;31m---------------------------------------------------------------------------\u001b[0m\n"
          ]
        }
      ]
    }
  ]
}