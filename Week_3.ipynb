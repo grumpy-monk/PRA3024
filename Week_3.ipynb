{
  "nbformat": 4,
  "nbformat_minor": 0,
  "metadata": {
    "colab": {
      "name": "Week 3.ipynb",
      "provenance": [],
      "collapsed_sections": [],
      "authorship_tag": "ABX9TyNUHrfcUxfrlEivFH2sDvcq",
      "include_colab_link": true
    },
    "kernelspec": {
      "name": "python3",
      "display_name": "Python 3"
    }
  },
  "cells": [
    {
      "cell_type": "markdown",
      "metadata": {
        "id": "view-in-github",
        "colab_type": "text"
      },
      "source": [
        "<a href=\"https://colab.research.google.com/github/grumpy-monk/PRA3024/blob/master/Week_3.ipynb\" target=\"_parent\"><img src=\"https://colab.research.google.com/assets/colab-badge.svg\" alt=\"Open In Colab\"/></a>"
      ]
    },
    {
      "cell_type": "markdown",
      "metadata": {
        "id": "YKNLm38IpC0S",
        "colab_type": "text"
      },
      "source": [
        "Assignment \n"
      ]
    },
    {
      "cell_type": "code",
      "metadata": {
        "id": "ikENTDNEjirv",
        "colab_type": "code",
        "outputId": "4ae98f37-48f1-4a12-a10b-d5d9e2fbdf95",
        "colab": {
          "base_uri": "https://localhost:8080/",
          "height": 34
        }
      },
      "source": [
        "import sympy as sy\n",
        "import mumpy as np\n",
        "\n",
        "h = \"A*f^(-7/6)*e^(i*(2*pi*f*tc - fi - pi/4 + ((3/(128*n*(v^5)))*(ak*v^k))))\"\n",
        "fisher(h, S = 1, N = 4, tc = 1, fi= 1, n = 2, a = 2, A = 1, f = 2, e = 2.718282, i, pi = 3.141593, v = 1)      #giving random values to the variables. \n",
        "\n",
        "def myformula(formula, **kwargs):\n",
        "    expr = sy.sympify(formula)\n",
        "    return expr.evalf(subs=kwargs)\n",
        "\n",
        "\n",
        "def fisher(h, S, N, **kwargs):        #(h = Furier transform function, S = which detector PSD we want to use, N = number of observables, *kwargs = all the variables in h with the observables being listed first)\n",
        "\n",
        "  (S1, S2, f1, f2, size) = PSD(whichDetector = S, index = 0)\n",
        "\n",
        "  for i in (n):\n",
        "    for j in (n):\n",
        "      for N in (size):\n",
        "        (S1, S2, f1, f2, size) = PSD(whichDetector = S, index = N)\n",
        "        Sum(i,j) += (((derivative(h, f1, observable = i) + derivative(h, f2, observable = i)) * (derivative(h, f1, observable = j) + derivative(h, f2, observable = j)))/(2*(S1+S2)))*(f2 - f1)\n",
        "\n",
        "  inv_Sum = np.linalg.inv(Sum)\n",
        "\n",
        "def amplitude(low, high, SNR):\n",
        "\n",
        "def derivative(h, f, observable, **kwargs):\n",
        "  a, b, c, d = 0\n",
        "  if\n",
        "  step = 1/1000000\n",
        "  h = (var1 + step*a) + (var1 + step*a) + (var1 + step*a) + (var1 + step*a)\n",
        "\n",
        "\n",
        "\n",
        "def PSD (whichDetector, index):\n",
        "  if whichDetector = 1:         # Advanced LIGO\n",
        "    matrix = ()\n",
        "  elif whichDetector = 2:       # Advanced Vergo\n",
        "    matrix = ()\n",
        "  elif whichDetector = 3:       # Advanced Einstein\n",
        "    matrix = ()\n",
        "  else whichDetector = 4:       # Advanced Kagra\n",
        "    matrix = ()\n",
        "    \n",
        "  f1 = matrix(index,0)\n",
        "  f2 = matrix(index + 1, 0)\n",
        "\n",
        "  S1= matrix(index, 1)\n",
        "  S2 = matrix(index + 1, 1)\n",
        "\n",
        "  size = len(matrix)\n",
        "\n",
        "  return(S1, S2, f1, f2, size)"
      ],
      "execution_count": 0,
      "outputs": [
        {
          "output_type": "stream",
          "text": [
            "27\n"
          ],
          "name": "stdout"
        }
      ]
    },
    {
      "cell_type": "markdown",
      "metadata": {
        "id": "yZn3cR45ovEK",
        "colab_type": "text"
      },
      "source": [
        "Testing out the **kwargs to change the value for specific keys"
      ]
    },
    {
      "cell_type": "code",
      "metadata": {
        "id": "4lS1rJHmomJc",
        "colab_type": "code",
        "colab": {
          "base_uri": "https://localhost:8080/",
          "height": 136
        },
        "outputId": "112e1a56-99f1-4914-ca3a-62eda11c9f86"
      },
      "source": [
        "def print_values(**kwargs):\n",
        "  kwargs[0] = \"Sushi\"\n",
        "  a =  \"name_1\"\n",
        "  kwargs[a] = \"pep\"\n",
        "\n",
        "  for key, value in kwargs.items():\n",
        "    kwargs[key] = \"name change\"\n",
        "    print(\"The value of {} is {}\".format(key, value))\n",
        "\n",
        "print_values(\n",
        "            name_1=\"Alex\",\n",
        "            name_2=\"Gray\",\n",
        "            name_3=\"Harper\",\n",
        "            name_4=\"Phoenix\",\n",
        "            name_5=\"Remy\",\n",
        "            name_6=\"Val\"\n",
        "        )"
      ],
      "execution_count": 2,
      "outputs": [
        {
          "output_type": "stream",
          "text": [
            "The value of name_1 is pep\n",
            "The value of name_2 is Gray\n",
            "The value of name_3 is Harper\n",
            "The value of name_4 is Phoenix\n",
            "The value of name_5 is Remy\n",
            "The value of name_6 is Val\n",
            "The value of 0 is Sushi\n"
          ],
          "name": "stdout"
        }
      ]
    },
    {
      "cell_type": "markdown",
      "metadata": {
        "id": "TMKdZgHfo4kH",
        "colab_type": "text"
      },
      "source": [
        "Testing out the sympy to read string as functions and compute their values"
      ]
    },
    {
      "cell_type": "code",
      "metadata": {
        "id": "YFBlo7zaotya",
        "colab_type": "code",
        "colab": {
          "base_uri": "https://localhost:8080/",
          "height": 136
        },
        "outputId": "418e529f-a5d9-4fdf-aea2-8bdc23440b9e"
      },
      "source": [
        "import sympy as sy\n",
        "\n",
        "def myformula(formula, **kwargs):\n",
        "    expr = sy.sympify(formula)\n",
        "    print(\"And all the rest... %s\" % list(kwargs))\n",
        "    return expr.evalf(subs=kwargs)\n",
        "\n",
        "print(myformula(x=2,y=2,z=1,formula=\"x+2*y/z\"))\n",
        "# 6.00000000000000\n",
        "\n",
        "#h = A*f^(−7/6)*e^(i(2*π*f*tc − φc − π/4 + 3/(128*η*v^5)Σαk*v^k)), n = 4, tc, φc, η, α, A, v\n",
        "\n",
        "fu = \"A*(f^(-7/8))*e^(2*pi*f*tc - fi - pi/4 + (3/(128*n*v^5))*(a*v)*g)\"\n",
        "print(myformula(formula = fu, g = myformula(x=2,y=2,z=1,formula=\"x+2*y/z\"),A=1, f= 2, e = 5, pi = 11/7, tc = 2, fi = 2, n = 3, v = 1, a = 6))\n",
        "\n",
        "\n",
        "\n",
        "fu = \"A*f^(-7/6)*e^(i*(2*pi*f*tc - fi - pi/4 + ((3/(128*n*(v^5)))*(b))))\"\n",
        "print(myformula(formula = fu))"
      ],
      "execution_count": 1,
      "outputs": [
        {
          "output_type": "stream",
          "text": [
            "And all the rest... ['x', 'y', 'z']\n",
            "6.00000000000000\n",
            "And all the rest... ['x', 'y', 'z']\n",
            "And all the rest... ['g', 'A', 'f', 'e', 'pi', 'tc', 'fi', 'n', 'v', 'a']\n",
            "3.57525108222577e+15\n",
            "And all the rest... []\n",
            "A*e**(i*(0.0234375*b/(n*v**5) + 6.28318530717959*f*tc - fi - 0.785398163397448))*f**(-1.16666666666667)\n"
          ],
          "name": "stdout"
        }
      ]
    }
  ]
}